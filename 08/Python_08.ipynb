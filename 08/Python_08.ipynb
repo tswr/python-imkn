{
 "cells": [
  {
   "cell_type": "markdown",
   "metadata": {},
   "source": [
    "# Варианты иморта модулей"
   ]
  },
  {
   "cell_type": "code",
   "execution_count": 1,
   "metadata": {
    "collapsed": false
   },
   "outputs": [
    {
     "data": {
      "text/plain": [
       "{'contextlib', 'g1'}"
      ]
     },
     "execution_count": 1,
     "metadata": {},
     "output_type": "execute_result"
    }
   ],
   "source": [
    "g1 = set(globals().keys())\n",
    "import contextlib\n",
    "g2 = set(globals().keys())\n",
    "g2.difference(g1)"
   ]
  },
  {
   "cell_type": "code",
   "execution_count": 2,
   "metadata": {
    "collapsed": false
   },
   "outputs": [
    {
     "data": {
      "text/plain": [
       "<function contextlib.contextmanager>"
      ]
     },
     "execution_count": 2,
     "metadata": {},
     "output_type": "execute_result"
    }
   ],
   "source": [
    "contextlib.contextmanager"
   ]
  },
  {
   "cell_type": "code",
   "execution_count": 3,
   "metadata": {
    "collapsed": false
   },
   "outputs": [
    {
     "data": {
      "text/plain": [
       "{'_1', '_2', '_i2', '_i3', 'g2', 'np'}"
      ]
     },
     "execution_count": 3,
     "metadata": {},
     "output_type": "execute_result"
    }
   ],
   "source": [
    "import numpy as np\n",
    "g3 = set(globals().keys())\n",
    "g3.difference(g2)"
   ]
  },
  {
   "cell_type": "code",
   "execution_count": 4,
   "metadata": {
    "collapsed": false
   },
   "outputs": [
    {
     "data": {
      "text/plain": [
       "{'_3', '_i4', 'closing', 'g3'}"
      ]
     },
     "execution_count": 4,
     "metadata": {},
     "output_type": "execute_result"
    }
   ],
   "source": [
    "from contextlib import closing\n",
    "g4 = set(globals().keys())\n",
    "g4.difference(g3)"
   ]
  },
  {
   "cell_type": "code",
   "execution_count": 5,
   "metadata": {
    "collapsed": false
   },
   "outputs": [
    {
     "data": {
      "text/plain": [
       "{'ContextDecorator',\n",
       " 'ExitStack',\n",
       " '_4',\n",
       " '_i5',\n",
       " 'contextmanager',\n",
       " 'g4',\n",
       " 'redirect_stdout',\n",
       " 'suppress'}"
      ]
     },
     "execution_count": 5,
     "metadata": {},
     "output_type": "execute_result"
    }
   ],
   "source": [
    "from contextlib import *\n",
    "g5 = set(globals().keys())\n",
    "g5.difference(g4)"
   ]
  },
  {
   "cell_type": "code",
   "execution_count": 6,
   "metadata": {
    "collapsed": false
   },
   "outputs": [
    {
     "data": {
      "text/plain": [
       "{'AF_APPLETALK',\n",
       " 'AF_DECnet',\n",
       " 'AF_INET',\n",
       " 'AF_INET6',\n",
       " 'AF_IPX',\n",
       " 'AF_LINK',\n",
       " 'AF_ROUTE',\n",
       " 'AF_SNA',\n",
       " 'AF_SYSTEM',\n",
       " 'AF_UNIX',\n",
       " 'AF_UNSPEC',\n",
       " 'AI_ADDRCONFIG',\n",
       " 'AI_ALL',\n",
       " 'AI_CANONNAME',\n",
       " 'AI_DEFAULT',\n",
       " 'AI_MASK',\n",
       " 'AI_NUMERICHOST',\n",
       " 'AI_NUMERICSERV',\n",
       " 'AI_PASSIVE',\n",
       " 'AI_V4MAPPED',\n",
       " 'AI_V4MAPPED_CFG',\n",
       " 'AddressFamily',\n",
       " 'CAPI',\n",
       " 'CMSG_LEN',\n",
       " 'CMSG_SPACE',\n",
       " 'EAI_ADDRFAMILY',\n",
       " 'EAI_AGAIN',\n",
       " 'EAI_BADFLAGS',\n",
       " 'EAI_BADHINTS',\n",
       " 'EAI_FAIL',\n",
       " 'EAI_FAMILY',\n",
       " 'EAI_MAX',\n",
       " 'EAI_MEMORY',\n",
       " 'EAI_NODATA',\n",
       " 'EAI_NONAME',\n",
       " 'EAI_OVERFLOW',\n",
       " 'EAI_PROTOCOL',\n",
       " 'EAI_SERVICE',\n",
       " 'EAI_SOCKTYPE',\n",
       " 'EAI_SYSTEM',\n",
       " 'INADDR_ALLHOSTS_GROUP',\n",
       " 'INADDR_ANY',\n",
       " 'INADDR_BROADCAST',\n",
       " 'INADDR_LOOPBACK',\n",
       " 'INADDR_MAX_LOCAL_GROUP',\n",
       " 'INADDR_NONE',\n",
       " 'INADDR_UNSPEC_GROUP',\n",
       " 'IPPORT_RESERVED',\n",
       " 'IPPORT_USERRESERVED',\n",
       " 'IPPROTO_AH',\n",
       " 'IPPROTO_DSTOPTS',\n",
       " 'IPPROTO_EGP',\n",
       " 'IPPROTO_EON',\n",
       " 'IPPROTO_ESP',\n",
       " 'IPPROTO_FRAGMENT',\n",
       " 'IPPROTO_GGP',\n",
       " 'IPPROTO_GRE',\n",
       " 'IPPROTO_HELLO',\n",
       " 'IPPROTO_HOPOPTS',\n",
       " 'IPPROTO_ICMP',\n",
       " 'IPPROTO_ICMPV6',\n",
       " 'IPPROTO_IDP',\n",
       " 'IPPROTO_IGMP',\n",
       " 'IPPROTO_IP',\n",
       " 'IPPROTO_IPCOMP',\n",
       " 'IPPROTO_IPIP',\n",
       " 'IPPROTO_IPV4',\n",
       " 'IPPROTO_IPV6',\n",
       " 'IPPROTO_MAX',\n",
       " 'IPPROTO_ND',\n",
       " 'IPPROTO_NONE',\n",
       " 'IPPROTO_PIM',\n",
       " 'IPPROTO_PUP',\n",
       " 'IPPROTO_RAW',\n",
       " 'IPPROTO_ROUTING',\n",
       " 'IPPROTO_RSVP',\n",
       " 'IPPROTO_SCTP',\n",
       " 'IPPROTO_TCP',\n",
       " 'IPPROTO_TP',\n",
       " 'IPPROTO_UDP',\n",
       " 'IPPROTO_XTP',\n",
       " 'IPV6_CHECKSUM',\n",
       " 'IPV6_JOIN_GROUP',\n",
       " 'IPV6_LEAVE_GROUP',\n",
       " 'IPV6_MULTICAST_HOPS',\n",
       " 'IPV6_MULTICAST_IF',\n",
       " 'IPV6_MULTICAST_LOOP',\n",
       " 'IPV6_RECVTCLASS',\n",
       " 'IPV6_RTHDR_TYPE_0',\n",
       " 'IPV6_TCLASS',\n",
       " 'IPV6_UNICAST_HOPS',\n",
       " 'IPV6_V6ONLY',\n",
       " 'IP_ADD_MEMBERSHIP',\n",
       " 'IP_DEFAULT_MULTICAST_LOOP',\n",
       " 'IP_DEFAULT_MULTICAST_TTL',\n",
       " 'IP_DROP_MEMBERSHIP',\n",
       " 'IP_HDRINCL',\n",
       " 'IP_MAX_MEMBERSHIPS',\n",
       " 'IP_MULTICAST_IF',\n",
       " 'IP_MULTICAST_LOOP',\n",
       " 'IP_MULTICAST_TTL',\n",
       " 'IP_OPTIONS',\n",
       " 'IP_RECVDSTADDR',\n",
       " 'IP_RECVOPTS',\n",
       " 'IP_RECVRETOPTS',\n",
       " 'IP_RETOPTS',\n",
       " 'IP_TOS',\n",
       " 'IP_TTL',\n",
       " 'LOCAL_PEERCRED',\n",
       " 'MSG_CTRUNC',\n",
       " 'MSG_DONTROUTE',\n",
       " 'MSG_DONTWAIT',\n",
       " 'MSG_EOF',\n",
       " 'MSG_EOR',\n",
       " 'MSG_OOB',\n",
       " 'MSG_PEEK',\n",
       " 'MSG_TRUNC',\n",
       " 'MSG_WAITALL',\n",
       " 'NI_DGRAM',\n",
       " 'NI_MAXHOST',\n",
       " 'NI_MAXSERV',\n",
       " 'NI_NAMEREQD',\n",
       " 'NI_NOFQDN',\n",
       " 'NI_NUMERICHOST',\n",
       " 'NI_NUMERICSERV',\n",
       " 'PF_SYSTEM',\n",
       " 'SCM_CREDS',\n",
       " 'SCM_RIGHTS',\n",
       " 'SHUT_RD',\n",
       " 'SHUT_RDWR',\n",
       " 'SHUT_WR',\n",
       " 'SOCK_DGRAM',\n",
       " 'SOCK_RAW',\n",
       " 'SOCK_RDM',\n",
       " 'SOCK_SEQPACKET',\n",
       " 'SOCK_STREAM',\n",
       " 'SOL_IP',\n",
       " 'SOL_SOCKET',\n",
       " 'SOL_TCP',\n",
       " 'SOL_UDP',\n",
       " 'SOMAXCONN',\n",
       " 'SO_ACCEPTCONN',\n",
       " 'SO_BROADCAST',\n",
       " 'SO_DEBUG',\n",
       " 'SO_DONTROUTE',\n",
       " 'SO_ERROR',\n",
       " 'SO_KEEPALIVE',\n",
       " 'SO_LINGER',\n",
       " 'SO_OOBINLINE',\n",
       " 'SO_RCVBUF',\n",
       " 'SO_RCVLOWAT',\n",
       " 'SO_RCVTIMEO',\n",
       " 'SO_REUSEADDR',\n",
       " 'SO_REUSEPORT',\n",
       " 'SO_SNDBUF',\n",
       " 'SO_SNDLOWAT',\n",
       " 'SO_SNDTIMEO',\n",
       " 'SO_TYPE',\n",
       " 'SO_USELOOPBACK',\n",
       " 'SYSPROTO_CONTROL',\n",
       " 'SocketKind',\n",
       " 'SocketType',\n",
       " 'TCP_KEEPCNT',\n",
       " 'TCP_KEEPINTVL',\n",
       " 'TCP_MAXSEG',\n",
       " 'TCP_NODELAY',\n",
       " '_5',\n",
       " '_i6',\n",
       " 'create_connection',\n",
       " 'dup',\n",
       " 'error',\n",
       " 'fromfd',\n",
       " 'g5',\n",
       " 'gaierror',\n",
       " 'getaddrinfo',\n",
       " 'getdefaulttimeout',\n",
       " 'getfqdn',\n",
       " 'gethostbyaddr',\n",
       " 'gethostbyname',\n",
       " 'gethostbyname_ex',\n",
       " 'gethostname',\n",
       " 'getnameinfo',\n",
       " 'getprotobyname',\n",
       " 'getservbyname',\n",
       " 'getservbyport',\n",
       " 'has_ipv6',\n",
       " 'herror',\n",
       " 'htonl',\n",
       " 'htons',\n",
       " 'if_indextoname',\n",
       " 'if_nameindex',\n",
       " 'if_nametoindex',\n",
       " 'inet_aton',\n",
       " 'inet_ntoa',\n",
       " 'inet_ntop',\n",
       " 'inet_pton',\n",
       " 'ntohl',\n",
       " 'ntohs',\n",
       " 'setdefaulttimeout',\n",
       " 'sethostname',\n",
       " 'socket',\n",
       " 'socketpair',\n",
       " 'timeout'}"
      ]
     },
     "execution_count": 6,
     "metadata": {},
     "output_type": "execute_result"
    }
   ],
   "source": [
    "from socket import *\n",
    "g6 = set(globals().keys())\n",
    "g6.difference(g5)"
   ]
  },
  {
   "cell_type": "markdown",
   "metadata": {},
   "source": [
    "# Процесс импорта"
   ]
  },
  {
   "cell_type": "code",
   "execution_count": 1,
   "metadata": {
    "collapsed": false
   },
   "outputs": [
    {
     "data": {
      "text/plain": [
       "{'IPython': <module 'IPython' from '/opt/local/Library/Frameworks/Python.framework/Versions/3.4/lib/python3.4/site-packages/IPython/__init__.py'>,\n",
       " 'IPython.config': <module 'IPython.config' from '/opt/local/Library/Frameworks/Python.framework/Versions/3.4/lib/python3.4/site-packages/IPython/config/__init__.py'>,\n",
       " 'IPython.config.application': <module 'IPython.config.application' from '/opt/local/Library/Frameworks/Python.framework/Versions/3.4/lib/python3.4/site-packages/IPython/config/application.py'>,\n",
       " 'IPython.config.configurable': <module 'IPython.config.configurable' from '/opt/local/Library/Frameworks/Python.framework/Versions/3.4/lib/python3.4/site-packages/IPython/config/configurable.py'>,\n",
       " 'IPython.config.loader': <module 'IPython.config.loader' from '/opt/local/Library/Frameworks/Python.framework/Versions/3.4/lib/python3.4/site-packages/IPython/config/loader.py'>,\n",
       " 'IPython.core': <module 'IPython.core' from '/opt/local/Library/Frameworks/Python.framework/Versions/3.4/lib/python3.4/site-packages/IPython/core/__init__.py'>,\n",
       " 'IPython.core.alias': <module 'IPython.core.alias' from '/opt/local/Library/Frameworks/Python.framework/Versions/3.4/lib/python3.4/site-packages/IPython/core/alias.py'>,\n",
       " 'IPython.core.application': <module 'IPython.core.application' from '/opt/local/Library/Frameworks/Python.framework/Versions/3.4/lib/python3.4/site-packages/IPython/core/application.py'>,\n",
       " 'IPython.core.autocall': <module 'IPython.core.autocall' from '/opt/local/Library/Frameworks/Python.framework/Versions/3.4/lib/python3.4/site-packages/IPython/core/autocall.py'>,\n",
       " 'IPython.core.builtin_trap': <module 'IPython.core.builtin_trap' from '/opt/local/Library/Frameworks/Python.framework/Versions/3.4/lib/python3.4/site-packages/IPython/core/builtin_trap.py'>,\n",
       " 'IPython.core.compilerop': <module 'IPython.core.compilerop' from '/opt/local/Library/Frameworks/Python.framework/Versions/3.4/lib/python3.4/site-packages/IPython/core/compilerop.py'>,\n",
       " 'IPython.core.completer': <module 'IPython.core.completer' from '/opt/local/Library/Frameworks/Python.framework/Versions/3.4/lib/python3.4/site-packages/IPython/core/completer.py'>,\n",
       " 'IPython.core.completerlib': <module 'IPython.core.completerlib' from '/opt/local/Library/Frameworks/Python.framework/Versions/3.4/lib/python3.4/site-packages/IPython/core/completerlib.py'>,\n",
       " 'IPython.core.crashhandler': <module 'IPython.core.crashhandler' from '/opt/local/Library/Frameworks/Python.framework/Versions/3.4/lib/python3.4/site-packages/IPython/core/crashhandler.py'>,\n",
       " 'IPython.core.debugger': <module 'IPython.core.debugger' from '/opt/local/Library/Frameworks/Python.framework/Versions/3.4/lib/python3.4/site-packages/IPython/core/debugger.py'>,\n",
       " 'IPython.core.display': <module 'IPython.core.display' from '/opt/local/Library/Frameworks/Python.framework/Versions/3.4/lib/python3.4/site-packages/IPython/core/display.py'>,\n",
       " 'IPython.core.display_trap': <module 'IPython.core.display_trap' from '/opt/local/Library/Frameworks/Python.framework/Versions/3.4/lib/python3.4/site-packages/IPython/core/display_trap.py'>,\n",
       " 'IPython.core.displayhook': <module 'IPython.core.displayhook' from '/opt/local/Library/Frameworks/Python.framework/Versions/3.4/lib/python3.4/site-packages/IPython/core/displayhook.py'>,\n",
       " 'IPython.core.displaypub': <module 'IPython.core.displaypub' from '/opt/local/Library/Frameworks/Python.framework/Versions/3.4/lib/python3.4/site-packages/IPython/core/displaypub.py'>,\n",
       " 'IPython.core.error': <module 'IPython.core.error' from '/opt/local/Library/Frameworks/Python.framework/Versions/3.4/lib/python3.4/site-packages/IPython/core/error.py'>,\n",
       " 'IPython.core.events': <module 'IPython.core.events' from '/opt/local/Library/Frameworks/Python.framework/Versions/3.4/lib/python3.4/site-packages/IPython/core/events.py'>,\n",
       " 'IPython.core.excolors': <module 'IPython.core.excolors' from '/opt/local/Library/Frameworks/Python.framework/Versions/3.4/lib/python3.4/site-packages/IPython/core/excolors.py'>,\n",
       " 'IPython.core.extensions': <module 'IPython.core.extensions' from '/opt/local/Library/Frameworks/Python.framework/Versions/3.4/lib/python3.4/site-packages/IPython/core/extensions.py'>,\n",
       " 'IPython.core.formatters': <module 'IPython.core.formatters' from '/opt/local/Library/Frameworks/Python.framework/Versions/3.4/lib/python3.4/site-packages/IPython/core/formatters.py'>,\n",
       " 'IPython.core.getipython': <module 'IPython.core.getipython' from '/opt/local/Library/Frameworks/Python.framework/Versions/3.4/lib/python3.4/site-packages/IPython/core/getipython.py'>,\n",
       " 'IPython.core.history': <module 'IPython.core.history' from '/opt/local/Library/Frameworks/Python.framework/Versions/3.4/lib/python3.4/site-packages/IPython/core/history.py'>,\n",
       " 'IPython.core.hooks': <module 'IPython.core.hooks' from '/opt/local/Library/Frameworks/Python.framework/Versions/3.4/lib/python3.4/site-packages/IPython/core/hooks.py'>,\n",
       " 'IPython.core.inputsplitter': <module 'IPython.core.inputsplitter' from '/opt/local/Library/Frameworks/Python.framework/Versions/3.4/lib/python3.4/site-packages/IPython/core/inputsplitter.py'>,\n",
       " 'IPython.core.inputtransformer': <module 'IPython.core.inputtransformer' from '/opt/local/Library/Frameworks/Python.framework/Versions/3.4/lib/python3.4/site-packages/IPython/core/inputtransformer.py'>,\n",
       " 'IPython.core.interactiveshell': <module 'IPython.core.interactiveshell' from '/opt/local/Library/Frameworks/Python.framework/Versions/3.4/lib/python3.4/site-packages/IPython/core/interactiveshell.py'>,\n",
       " 'IPython.core.latex_symbols': <module 'IPython.core.latex_symbols' from '/opt/local/Library/Frameworks/Python.framework/Versions/3.4/lib/python3.4/site-packages/IPython/core/latex_symbols.py'>,\n",
       " 'IPython.core.logger': <module 'IPython.core.logger' from '/opt/local/Library/Frameworks/Python.framework/Versions/3.4/lib/python3.4/site-packages/IPython/core/logger.py'>,\n",
       " 'IPython.core.macro': <module 'IPython.core.macro' from '/opt/local/Library/Frameworks/Python.framework/Versions/3.4/lib/python3.4/site-packages/IPython/core/macro.py'>,\n",
       " 'IPython.core.magic': <module 'IPython.core.magic' from '/opt/local/Library/Frameworks/Python.framework/Versions/3.4/lib/python3.4/site-packages/IPython/core/magic.py'>,\n",
       " 'IPython.core.magic_arguments': <module 'IPython.core.magic_arguments' from '/opt/local/Library/Frameworks/Python.framework/Versions/3.4/lib/python3.4/site-packages/IPython/core/magic_arguments.py'>,\n",
       " 'IPython.core.magics': <module 'IPython.core.magics' from '/opt/local/Library/Frameworks/Python.framework/Versions/3.4/lib/python3.4/site-packages/IPython/core/magics/__init__.py'>,\n",
       " 'IPython.core.magics.auto': <module 'IPython.core.magics.auto' from '/opt/local/Library/Frameworks/Python.framework/Versions/3.4/lib/python3.4/site-packages/IPython/core/magics/auto.py'>,\n",
       " 'IPython.core.magics.basic': <module 'IPython.core.magics.basic' from '/opt/local/Library/Frameworks/Python.framework/Versions/3.4/lib/python3.4/site-packages/IPython/core/magics/basic.py'>,\n",
       " 'IPython.core.magics.code': <module 'IPython.core.magics.code' from '/opt/local/Library/Frameworks/Python.framework/Versions/3.4/lib/python3.4/site-packages/IPython/core/magics/code.py'>,\n",
       " 'IPython.core.magics.config': <module 'IPython.core.magics.config' from '/opt/local/Library/Frameworks/Python.framework/Versions/3.4/lib/python3.4/site-packages/IPython/core/magics/config.py'>,\n",
       " 'IPython.core.magics.deprecated': <module 'IPython.core.magics.deprecated' from '/opt/local/Library/Frameworks/Python.framework/Versions/3.4/lib/python3.4/site-packages/IPython/core/magics/deprecated.py'>,\n",
       " 'IPython.core.magics.display': <module 'IPython.core.magics.display' from '/opt/local/Library/Frameworks/Python.framework/Versions/3.4/lib/python3.4/site-packages/IPython/core/magics/display.py'>,\n",
       " 'IPython.core.magics.execution': <module 'IPython.core.magics.execution' from '/opt/local/Library/Frameworks/Python.framework/Versions/3.4/lib/python3.4/site-packages/IPython/core/magics/execution.py'>,\n",
       " 'IPython.core.magics.extension': <module 'IPython.core.magics.extension' from '/opt/local/Library/Frameworks/Python.framework/Versions/3.4/lib/python3.4/site-packages/IPython/core/magics/extension.py'>,\n",
       " 'IPython.core.magics.history': <module 'IPython.core.magics.history' from '/opt/local/Library/Frameworks/Python.framework/Versions/3.4/lib/python3.4/site-packages/IPython/core/magics/history.py'>,\n",
       " 'IPython.core.magics.logging': <module 'IPython.core.magics.logging' from '/opt/local/Library/Frameworks/Python.framework/Versions/3.4/lib/python3.4/site-packages/IPython/core/magics/logging.py'>,\n",
       " 'IPython.core.magics.namespace': <module 'IPython.core.magics.namespace' from '/opt/local/Library/Frameworks/Python.framework/Versions/3.4/lib/python3.4/site-packages/IPython/core/magics/namespace.py'>,\n",
       " 'IPython.core.magics.osm': <module 'IPython.core.magics.osm' from '/opt/local/Library/Frameworks/Python.framework/Versions/3.4/lib/python3.4/site-packages/IPython/core/magics/osm.py'>,\n",
       " 'IPython.core.magics.pylab': <module 'IPython.core.magics.pylab' from '/opt/local/Library/Frameworks/Python.framework/Versions/3.4/lib/python3.4/site-packages/IPython/core/magics/pylab.py'>,\n",
       " 'IPython.core.magics.script': <module 'IPython.core.magics.script' from '/opt/local/Library/Frameworks/Python.framework/Versions/3.4/lib/python3.4/site-packages/IPython/core/magics/script.py'>,\n",
       " 'IPython.core.oinspect': <module 'IPython.core.oinspect' from '/opt/local/Library/Frameworks/Python.framework/Versions/3.4/lib/python3.4/site-packages/IPython/core/oinspect.py'>,\n",
       " 'IPython.core.page': <module 'IPython.core.page' from '/opt/local/Library/Frameworks/Python.framework/Versions/3.4/lib/python3.4/site-packages/IPython/core/page.py'>,\n",
       " 'IPython.core.payload': <module 'IPython.core.payload' from '/opt/local/Library/Frameworks/Python.framework/Versions/3.4/lib/python3.4/site-packages/IPython/core/payload.py'>,\n",
       " 'IPython.core.payloadpage': <module 'IPython.core.payloadpage' from '/opt/local/Library/Frameworks/Python.framework/Versions/3.4/lib/python3.4/site-packages/IPython/core/payloadpage.py'>,\n",
       " 'IPython.core.prefilter': <module 'IPython.core.prefilter' from '/opt/local/Library/Frameworks/Python.framework/Versions/3.4/lib/python3.4/site-packages/IPython/core/prefilter.py'>,\n",
       " 'IPython.core.profiledir': <module 'IPython.core.profiledir' from '/opt/local/Library/Frameworks/Python.framework/Versions/3.4/lib/python3.4/site-packages/IPython/core/profiledir.py'>,\n",
       " 'IPython.core.prompts': <module 'IPython.core.prompts' from '/opt/local/Library/Frameworks/Python.framework/Versions/3.4/lib/python3.4/site-packages/IPython/core/prompts.py'>,\n",
       " 'IPython.core.pylabtools': <module 'IPython.core.pylabtools' from '/opt/local/Library/Frameworks/Python.framework/Versions/3.4/lib/python3.4/site-packages/IPython/core/pylabtools.py'>,\n",
       " 'IPython.core.release': <module 'IPython.core.release' from '/opt/local/Library/Frameworks/Python.framework/Versions/3.4/lib/python3.4/site-packages/IPython/core/release.py'>,\n",
       " 'IPython.core.shadowns': <module 'IPython.core.shadowns' from '/opt/local/Library/Frameworks/Python.framework/Versions/3.4/lib/python3.4/site-packages/IPython/core/shadowns.py'>,\n",
       " 'IPython.core.shellapp': <module 'IPython.core.shellapp' from '/opt/local/Library/Frameworks/Python.framework/Versions/3.4/lib/python3.4/site-packages/IPython/core/shellapp.py'>,\n",
       " 'IPython.core.splitinput': <module 'IPython.core.splitinput' from '/opt/local/Library/Frameworks/Python.framework/Versions/3.4/lib/python3.4/site-packages/IPython/core/splitinput.py'>,\n",
       " 'IPython.core.ultratb': <module 'IPython.core.ultratb' from '/opt/local/Library/Frameworks/Python.framework/Versions/3.4/lib/python3.4/site-packages/IPython/core/ultratb.py'>,\n",
       " 'IPython.core.usage': <module 'IPython.core.usage' from '/opt/local/Library/Frameworks/Python.framework/Versions/3.4/lib/python3.4/site-packages/IPython/core/usage.py'>,\n",
       " 'IPython.display': <module 'IPython.display' from '/opt/local/Library/Frameworks/Python.framework/Versions/3.4/lib/python3.4/site-packages/IPython/display.py'>,\n",
       " 'IPython.extensions': <module 'IPython.extensions' from '/opt/local/Library/Frameworks/Python.framework/Versions/3.4/lib/python3.4/site-packages/IPython/extensions/__init__.py'>,\n",
       " 'IPython.extensions.storemagic': <module 'IPython.extensions.storemagic' from '/opt/local/Library/Frameworks/Python.framework/Versions/3.4/lib/python3.4/site-packages/IPython/extensions/storemagic.py'>,\n",
       " 'IPython.external': <module 'IPython.external' from '/opt/local/Library/Frameworks/Python.framework/Versions/3.4/lib/python3.4/site-packages/IPython/external/__init__.py'>,\n",
       " 'IPython.external.decorator': <module 'IPython.external.decorator' from '/opt/local/Library/Frameworks/Python.framework/Versions/3.4/lib/python3.4/site-packages/IPython/external/decorator/__init__.py'>,\n",
       " 'IPython.external.decorator._decorator': <module 'IPython.external.decorator._decorator' from '/opt/local/Library/Frameworks/Python.framework/Versions/3.4/lib/python3.4/site-packages/IPython/external/decorator/_decorator.py'>,\n",
       " 'IPython.external.path': <module 'IPython.external.path' from '/opt/local/Library/Frameworks/Python.framework/Versions/3.4/lib/python3.4/site-packages/IPython/external/path/__init__.py'>,\n",
       " 'IPython.external.path._path': <module 'IPython.external.path._path' from '/opt/local/Library/Frameworks/Python.framework/Versions/3.4/lib/python3.4/site-packages/IPython/external/path/_path.py'>,\n",
       " 'IPython.external.pexpect': <module 'IPython.external.pexpect' from '/opt/local/Library/Frameworks/Python.framework/Versions/3.4/lib/python3.4/site-packages/IPython/external/pexpect/__init__.py'>,\n",
       " 'IPython.external.pexpect._pexpect': <module 'IPython.external.pexpect._pexpect' from '/opt/local/Library/Frameworks/Python.framework/Versions/3.4/lib/python3.4/site-packages/IPython/external/pexpect/_pexpect.py'>,\n",
       " 'IPython.external.simplegeneric': <module 'IPython.external.simplegeneric' from '/opt/local/Library/Frameworks/Python.framework/Versions/3.4/lib/python3.4/site-packages/IPython/external/simplegeneric/__init__.py'>,\n",
       " 'IPython.external.simplegeneric._simplegeneric': <module 'IPython.external.simplegeneric._simplegeneric' from '/opt/local/Library/Frameworks/Python.framework/Versions/3.4/lib/python3.4/site-packages/IPython/external/simplegeneric/_simplegeneric.py'>,\n",
       " 'IPython.html': <module 'IPython.html' from '/opt/local/Library/Frameworks/Python.framework/Versions/3.4/lib/python3.4/site-packages/IPython/html/__init__.py'>,\n",
       " 'IPython.html.nbextensions': <module 'IPython.html.nbextensions' from '/opt/local/Library/Frameworks/Python.framework/Versions/3.4/lib/python3.4/site-packages/IPython/html/nbextensions.py'>,\n",
       " 'IPython.kernel': <module 'IPython.kernel' from '/opt/local/Library/Frameworks/Python.framework/Versions/3.4/lib/python3.4/site-packages/IPython/kernel/__init__.py'>,\n",
       " 'IPython.kernel.adapter': <module 'IPython.kernel.adapter' from '/opt/local/Library/Frameworks/Python.framework/Versions/3.4/lib/python3.4/site-packages/IPython/kernel/adapter.py'>,\n",
       " 'IPython.kernel.blocking': <module 'IPython.kernel.blocking' from '/opt/local/Library/Frameworks/Python.framework/Versions/3.4/lib/python3.4/site-packages/IPython/kernel/blocking/__init__.py'>,\n",
       " 'IPython.kernel.blocking.channels': <module 'IPython.kernel.blocking.channels' from '/opt/local/Library/Frameworks/Python.framework/Versions/3.4/lib/python3.4/site-packages/IPython/kernel/blocking/channels.py'>,\n",
       " 'IPython.kernel.blocking.client': <module 'IPython.kernel.blocking.client' from '/opt/local/Library/Frameworks/Python.framework/Versions/3.4/lib/python3.4/site-packages/IPython/kernel/blocking/client.py'>,\n",
       " 'IPython.kernel.channels': <module 'IPython.kernel.channels' from '/opt/local/Library/Frameworks/Python.framework/Versions/3.4/lib/python3.4/site-packages/IPython/kernel/channels.py'>,\n",
       " 'IPython.kernel.channelsabc': <module 'IPython.kernel.channelsabc' from '/opt/local/Library/Frameworks/Python.framework/Versions/3.4/lib/python3.4/site-packages/IPython/kernel/channelsabc.py'>,\n",
       " 'IPython.kernel.client': <module 'IPython.kernel.client' from '/opt/local/Library/Frameworks/Python.framework/Versions/3.4/lib/python3.4/site-packages/IPython/kernel/client.py'>,\n",
       " 'IPython.kernel.clientabc': <module 'IPython.kernel.clientabc' from '/opt/local/Library/Frameworks/Python.framework/Versions/3.4/lib/python3.4/site-packages/IPython/kernel/clientabc.py'>,\n",
       " 'IPython.kernel.comm': <module 'IPython.kernel.comm' from '/opt/local/Library/Frameworks/Python.framework/Versions/3.4/lib/python3.4/site-packages/IPython/kernel/comm/__init__.py'>,\n",
       " 'IPython.kernel.comm.comm': <module 'IPython.kernel.comm.comm' from '/opt/local/Library/Frameworks/Python.framework/Versions/3.4/lib/python3.4/site-packages/IPython/kernel/comm/comm.py'>,\n",
       " 'IPython.kernel.comm.manager': <module 'IPython.kernel.comm.manager' from '/opt/local/Library/Frameworks/Python.framework/Versions/3.4/lib/python3.4/site-packages/IPython/kernel/comm/manager.py'>,\n",
       " 'IPython.kernel.connect': <module 'IPython.kernel.connect' from '/opt/local/Library/Frameworks/Python.framework/Versions/3.4/lib/python3.4/site-packages/IPython/kernel/connect.py'>,\n",
       " 'IPython.kernel.inprocess': <module 'IPython.kernel.inprocess' from '/opt/local/Library/Frameworks/Python.framework/Versions/3.4/lib/python3.4/site-packages/IPython/kernel/inprocess/__init__.py'>,\n",
       " 'IPython.kernel.inprocess.blocking': <module 'IPython.kernel.inprocess.blocking' from '/opt/local/Library/Frameworks/Python.framework/Versions/3.4/lib/python3.4/site-packages/IPython/kernel/inprocess/blocking.py'>,\n",
       " 'IPython.kernel.inprocess.channels': <module 'IPython.kernel.inprocess.channels' from '/opt/local/Library/Frameworks/Python.framework/Versions/3.4/lib/python3.4/site-packages/IPython/kernel/inprocess/channels.py'>,\n",
       " 'IPython.kernel.inprocess.client': <module 'IPython.kernel.inprocess.client' from '/opt/local/Library/Frameworks/Python.framework/Versions/3.4/lib/python3.4/site-packages/IPython/kernel/inprocess/client.py'>,\n",
       " 'IPython.kernel.inprocess.manager': <module 'IPython.kernel.inprocess.manager' from '/opt/local/Library/Frameworks/Python.framework/Versions/3.4/lib/python3.4/site-packages/IPython/kernel/inprocess/manager.py'>,\n",
       " 'IPython.kernel.inprocess.socket': <module 'IPython.kernel.inprocess.socket' from '/opt/local/Library/Frameworks/Python.framework/Versions/3.4/lib/python3.4/site-packages/IPython/kernel/inprocess/socket.py'>,\n",
       " 'IPython.kernel.kernelspec': <module 'IPython.kernel.kernelspec' from '/opt/local/Library/Frameworks/Python.framework/Versions/3.4/lib/python3.4/site-packages/IPython/kernel/kernelspec.py'>,\n",
       " 'IPython.kernel.launcher': <module 'IPython.kernel.launcher' from '/opt/local/Library/Frameworks/Python.framework/Versions/3.4/lib/python3.4/site-packages/IPython/kernel/launcher.py'>,\n",
       " 'IPython.kernel.manager': <module 'IPython.kernel.manager' from '/opt/local/Library/Frameworks/Python.framework/Versions/3.4/lib/python3.4/site-packages/IPython/kernel/manager.py'>,\n",
       " 'IPython.kernel.managerabc': <module 'IPython.kernel.managerabc' from '/opt/local/Library/Frameworks/Python.framework/Versions/3.4/lib/python3.4/site-packages/IPython/kernel/managerabc.py'>,\n",
       " 'IPython.kernel.multikernelmanager': <module 'IPython.kernel.multikernelmanager' from '/opt/local/Library/Frameworks/Python.framework/Versions/3.4/lib/python3.4/site-packages/IPython/kernel/multikernelmanager.py'>,\n",
       " 'IPython.kernel.zmq': <module 'IPython.kernel.zmq' from '/opt/local/Library/Frameworks/Python.framework/Versions/3.4/lib/python3.4/site-packages/IPython/kernel/zmq/__init__.py'>,\n",
       " 'IPython.kernel.zmq.datapub': <module 'IPython.kernel.zmq.datapub' from '/opt/local/Library/Frameworks/Python.framework/Versions/3.4/lib/python3.4/site-packages/IPython/kernel/zmq/datapub.py'>,\n",
       " 'IPython.kernel.zmq.displayhook': <module 'IPython.kernel.zmq.displayhook' from '/opt/local/Library/Frameworks/Python.framework/Versions/3.4/lib/python3.4/site-packages/IPython/kernel/zmq/displayhook.py'>,\n",
       " 'IPython.kernel.zmq.heartbeat': <module 'IPython.kernel.zmq.heartbeat' from '/opt/local/Library/Frameworks/Python.framework/Versions/3.4/lib/python3.4/site-packages/IPython/kernel/zmq/heartbeat.py'>,\n",
       " 'IPython.kernel.zmq.iostream': <module 'IPython.kernel.zmq.iostream' from '/opt/local/Library/Frameworks/Python.framework/Versions/3.4/lib/python3.4/site-packages/IPython/kernel/zmq/iostream.py'>,\n",
       " 'IPython.kernel.zmq.ipkernel': <module 'IPython.kernel.zmq.ipkernel' from '/opt/local/Library/Frameworks/Python.framework/Versions/3.4/lib/python3.4/site-packages/IPython/kernel/zmq/ipkernel.py'>,\n",
       " 'IPython.kernel.zmq.kernelapp': <module 'IPython.kernel.zmq.kernelapp' from '/opt/local/Library/Frameworks/Python.framework/Versions/3.4/lib/python3.4/site-packages/IPython/kernel/zmq/kernelapp.py'>,\n",
       " 'IPython.kernel.zmq.kernelbase': <module 'IPython.kernel.zmq.kernelbase' from '/opt/local/Library/Frameworks/Python.framework/Versions/3.4/lib/python3.4/site-packages/IPython/kernel/zmq/kernelbase.py'>,\n",
       " 'IPython.kernel.zmq.parentpoller': <module 'IPython.kernel.zmq.parentpoller' from '/opt/local/Library/Frameworks/Python.framework/Versions/3.4/lib/python3.4/site-packages/IPython/kernel/zmq/parentpoller.py'>,\n",
       " 'IPython.kernel.zmq.serialize': <module 'IPython.kernel.zmq.serialize' from '/opt/local/Library/Frameworks/Python.framework/Versions/3.4/lib/python3.4/site-packages/IPython/kernel/zmq/serialize.py'>,\n",
       " 'IPython.kernel.zmq.session': <module 'IPython.kernel.zmq.session' from '/opt/local/Library/Frameworks/Python.framework/Versions/3.4/lib/python3.4/site-packages/IPython/kernel/zmq/session.py'>,\n",
       " 'IPython.kernel.zmq.zmqshell': <module 'IPython.kernel.zmq.zmqshell' from '/opt/local/Library/Frameworks/Python.framework/Versions/3.4/lib/python3.4/site-packages/IPython/kernel/zmq/zmqshell.py'>,\n",
       " 'IPython.lib': <module 'IPython.lib' from '/opt/local/Library/Frameworks/Python.framework/Versions/3.4/lib/python3.4/site-packages/IPython/lib/__init__.py'>,\n",
       " 'IPython.lib.backgroundjobs': <module 'IPython.lib.backgroundjobs' from '/opt/local/Library/Frameworks/Python.framework/Versions/3.4/lib/python3.4/site-packages/IPython/lib/backgroundjobs.py'>,\n",
       " 'IPython.lib.clipboard': <module 'IPython.lib.clipboard' from '/opt/local/Library/Frameworks/Python.framework/Versions/3.4/lib/python3.4/site-packages/IPython/lib/clipboard.py'>,\n",
       " 'IPython.lib.deepreload': <module 'IPython.lib.deepreload' from '/opt/local/Library/Frameworks/Python.framework/Versions/3.4/lib/python3.4/site-packages/IPython/lib/deepreload.py'>,\n",
       " 'IPython.lib.display': <module 'IPython.lib.display' from '/opt/local/Library/Frameworks/Python.framework/Versions/3.4/lib/python3.4/site-packages/IPython/lib/display.py'>,\n",
       " 'IPython.lib.inputhook': <module 'IPython.lib.inputhook' from '/opt/local/Library/Frameworks/Python.framework/Versions/3.4/lib/python3.4/site-packages/IPython/lib/inputhook.py'>,\n",
       " 'IPython.lib.pretty': <module 'IPython.lib.pretty' from '/opt/local/Library/Frameworks/Python.framework/Versions/3.4/lib/python3.4/site-packages/IPython/lib/pretty.py'>,\n",
       " 'IPython.lib.security': <module 'IPython.lib.security' from '/opt/local/Library/Frameworks/Python.framework/Versions/3.4/lib/python3.4/site-packages/IPython/lib/security.py'>,\n",
       " 'IPython.terminal': <module 'IPython.terminal' from '/opt/local/Library/Frameworks/Python.framework/Versions/3.4/lib/python3.4/site-packages/IPython/terminal/__init__.py'>,\n",
       " 'IPython.terminal.embed': <module 'IPython.terminal.embed' from '/opt/local/Library/Frameworks/Python.framework/Versions/3.4/lib/python3.4/site-packages/IPython/terminal/embed.py'>,\n",
       " 'IPython.terminal.interactiveshell': <module 'IPython.terminal.interactiveshell' from '/opt/local/Library/Frameworks/Python.framework/Versions/3.4/lib/python3.4/site-packages/IPython/terminal/interactiveshell.py'>,\n",
       " 'IPython.terminal.ipapp': <module 'IPython.terminal.ipapp' from '/opt/local/Library/Frameworks/Python.framework/Versions/3.4/lib/python3.4/site-packages/IPython/terminal/ipapp.py'>,\n",
       " 'IPython.testing': <module 'IPython.testing' from '/opt/local/Library/Frameworks/Python.framework/Versions/3.4/lib/python3.4/site-packages/IPython/testing/__init__.py'>,\n",
       " 'IPython.testing.skipdoctest': <module 'IPython.testing.skipdoctest' from '/opt/local/Library/Frameworks/Python.framework/Versions/3.4/lib/python3.4/site-packages/IPython/testing/skipdoctest.py'>,\n",
       " 'IPython.utils': <module 'IPython.utils' from '/opt/local/Library/Frameworks/Python.framework/Versions/3.4/lib/python3.4/site-packages/IPython/utils/__init__.py'>,\n",
       " 'IPython.utils.PyColorize': <module 'IPython.utils.PyColorize' from '/opt/local/Library/Frameworks/Python.framework/Versions/3.4/lib/python3.4/site-packages/IPython/utils/PyColorize.py'>,\n",
       " 'IPython.utils._process_common': <module 'IPython.utils._process_common' from '/opt/local/Library/Frameworks/Python.framework/Versions/3.4/lib/python3.4/site-packages/IPython/utils/_process_common.py'>,\n",
       " 'IPython.utils._process_posix': <module 'IPython.utils._process_posix' from '/opt/local/Library/Frameworks/Python.framework/Versions/3.4/lib/python3.4/site-packages/IPython/utils/_process_posix.py'>,\n",
       " 'IPython.utils._sysinfo': <module 'IPython.utils._sysinfo' from '/opt/local/Library/Frameworks/Python.framework/Versions/3.4/lib/python3.4/site-packages/IPython/utils/_sysinfo.py'>,\n",
       " 'IPython.utils._tokenize_py3': <module 'IPython.utils._tokenize_py3' from '/opt/local/Library/Frameworks/Python.framework/Versions/3.4/lib/python3.4/site-packages/IPython/utils/_tokenize_py3.py'>,\n",
       " 'IPython.utils.capture': <module 'IPython.utils.capture' from '/opt/local/Library/Frameworks/Python.framework/Versions/3.4/lib/python3.4/site-packages/IPython/utils/capture.py'>,\n",
       " 'IPython.utils.codeutil': <module 'IPython.utils.codeutil' from '/opt/local/Library/Frameworks/Python.framework/Versions/3.4/lib/python3.4/site-packages/IPython/utils/codeutil.py'>,\n",
       " 'IPython.utils.coloransi': <module 'IPython.utils.coloransi' from '/opt/local/Library/Frameworks/Python.framework/Versions/3.4/lib/python3.4/site-packages/IPython/utils/coloransi.py'>,\n",
       " 'IPython.utils.contexts': <module 'IPython.utils.contexts' from '/opt/local/Library/Frameworks/Python.framework/Versions/3.4/lib/python3.4/site-packages/IPython/utils/contexts.py'>,\n",
       " 'IPython.utils.data': <module 'IPython.utils.data' from '/opt/local/Library/Frameworks/Python.framework/Versions/3.4/lib/python3.4/site-packages/IPython/utils/data.py'>,\n",
       " 'IPython.utils.decorators': <module 'IPython.utils.decorators' from '/opt/local/Library/Frameworks/Python.framework/Versions/3.4/lib/python3.4/site-packages/IPython/utils/decorators.py'>,\n",
       " 'IPython.utils.dir2': <module 'IPython.utils.dir2' from '/opt/local/Library/Frameworks/Python.framework/Versions/3.4/lib/python3.4/site-packages/IPython/utils/dir2.py'>,\n",
       " 'IPython.utils.encoding': <module 'IPython.utils.encoding' from '/opt/local/Library/Frameworks/Python.framework/Versions/3.4/lib/python3.4/site-packages/IPython/utils/encoding.py'>,\n",
       " 'IPython.utils.eventful': <module 'IPython.utils.eventful' from '/opt/local/Library/Frameworks/Python.framework/Versions/3.4/lib/python3.4/site-packages/IPython/utils/eventful.py'>,\n",
       " 'IPython.utils.frame': <module 'IPython.utils.frame' from '/opt/local/Library/Frameworks/Python.framework/Versions/3.4/lib/python3.4/site-packages/IPython/utils/frame.py'>,\n",
       " 'IPython.utils.generics': <module 'IPython.utils.generics' from '/opt/local/Library/Frameworks/Python.framework/Versions/3.4/lib/python3.4/site-packages/IPython/utils/generics.py'>,\n",
       " 'IPython.utils.importstring': <module 'IPython.utils.importstring' from '/opt/local/Library/Frameworks/Python.framework/Versions/3.4/lib/python3.4/site-packages/IPython/utils/importstring.py'>,\n",
       " 'IPython.utils.io': <module 'IPython.utils.io' from '/opt/local/Library/Frameworks/Python.framework/Versions/3.4/lib/python3.4/site-packages/IPython/utils/io.py'>,\n",
       " 'IPython.utils.ipstruct': <module 'IPython.utils.ipstruct' from '/opt/local/Library/Frameworks/Python.framework/Versions/3.4/lib/python3.4/site-packages/IPython/utils/ipstruct.py'>,\n",
       " 'IPython.utils.jsonutil': <module 'IPython.utils.jsonutil' from '/opt/local/Library/Frameworks/Python.framework/Versions/3.4/lib/python3.4/site-packages/IPython/utils/jsonutil.py'>,\n",
       " 'IPython.utils.localinterfaces': <module 'IPython.utils.localinterfaces' from '/opt/local/Library/Frameworks/Python.framework/Versions/3.4/lib/python3.4/site-packages/IPython/utils/localinterfaces.py'>,\n",
       " 'IPython.utils.log': <module 'IPython.utils.log' from '/opt/local/Library/Frameworks/Python.framework/Versions/3.4/lib/python3.4/site-packages/IPython/utils/log.py'>,\n",
       " 'IPython.utils.module_paths': <module 'IPython.utils.module_paths' from '/opt/local/Library/Frameworks/Python.framework/Versions/3.4/lib/python3.4/site-packages/IPython/utils/module_paths.py'>,\n",
       " 'IPython.utils.openpy': <module 'IPython.utils.openpy' from '/opt/local/Library/Frameworks/Python.framework/Versions/3.4/lib/python3.4/site-packages/IPython/utils/openpy.py'>,\n",
       " 'IPython.utils.path': <module 'IPython.utils.path' from '/opt/local/Library/Frameworks/Python.framework/Versions/3.4/lib/python3.4/site-packages/IPython/utils/path.py'>,\n",
       " 'IPython.utils.pickleshare': <module 'IPython.utils.pickleshare' from '/opt/local/Library/Frameworks/Python.framework/Versions/3.4/lib/python3.4/site-packages/IPython/utils/pickleshare.py'>,\n",
       " 'IPython.utils.pickleutil': <module 'IPython.utils.pickleutil' from '/opt/local/Library/Frameworks/Python.framework/Versions/3.4/lib/python3.4/site-packages/IPython/utils/pickleutil.py'>,\n",
       " 'IPython.utils.process': <module 'IPython.utils.process' from '/opt/local/Library/Frameworks/Python.framework/Versions/3.4/lib/python3.4/site-packages/IPython/utils/process.py'>,\n",
       " 'IPython.utils.py3compat': <module 'IPython.utils.py3compat' from '/opt/local/Library/Frameworks/Python.framework/Versions/3.4/lib/python3.4/site-packages/IPython/utils/py3compat.py'>,\n",
       " 'IPython.utils.rlineimpl': <module 'IPython.utils.rlineimpl' from '/opt/local/Library/Frameworks/Python.framework/Versions/3.4/lib/python3.4/site-packages/IPython/utils/rlineimpl.py'>,\n",
       " 'IPython.utils.signatures': <module 'IPython.utils.signatures' from '/opt/local/Library/Frameworks/Python.framework/Versions/3.4/lib/python3.4/site-packages/IPython/utils/signatures.py'>,\n",
       " 'IPython.utils.strdispatch': <module 'IPython.utils.strdispatch' from '/opt/local/Library/Frameworks/Python.framework/Versions/3.4/lib/python3.4/site-packages/IPython/utils/strdispatch.py'>,\n",
       " 'IPython.utils.sysinfo': <module 'IPython.utils.sysinfo' from '/opt/local/Library/Frameworks/Python.framework/Versions/3.4/lib/python3.4/site-packages/IPython/utils/sysinfo.py'>,\n",
       " 'IPython.utils.syspathcontext': <module 'IPython.utils.syspathcontext' from '/opt/local/Library/Frameworks/Python.framework/Versions/3.4/lib/python3.4/site-packages/IPython/utils/syspathcontext.py'>,\n",
       " 'IPython.utils.tempdir': <module 'IPython.utils.tempdir' from '/opt/local/Library/Frameworks/Python.framework/Versions/3.4/lib/python3.4/site-packages/IPython/utils/tempdir.py'>,\n",
       " 'IPython.utils.terminal': <module 'IPython.utils.terminal' from '/opt/local/Library/Frameworks/Python.framework/Versions/3.4/lib/python3.4/site-packages/IPython/utils/terminal.py'>,\n",
       " 'IPython.utils.text': <module 'IPython.utils.text' from '/opt/local/Library/Frameworks/Python.framework/Versions/3.4/lib/python3.4/site-packages/IPython/utils/text.py'>,\n",
       " 'IPython.utils.timing': <module 'IPython.utils.timing' from '/opt/local/Library/Frameworks/Python.framework/Versions/3.4/lib/python3.4/site-packages/IPython/utils/timing.py'>,\n",
       " 'IPython.utils.tokenize2': <module 'IPython.utils.tokenize2' from '/opt/local/Library/Frameworks/Python.framework/Versions/3.4/lib/python3.4/site-packages/IPython/utils/tokenize2.py'>,\n",
       " 'IPython.utils.tokenutil': <module 'IPython.utils.tokenutil' from '/opt/local/Library/Frameworks/Python.framework/Versions/3.4/lib/python3.4/site-packages/IPython/utils/tokenutil.py'>,\n",
       " 'IPython.utils.traitlets': <module 'IPython.utils.traitlets' from '/opt/local/Library/Frameworks/Python.framework/Versions/3.4/lib/python3.4/site-packages/IPython/utils/traitlets.py'>,\n",
       " 'IPython.utils.ulinecache': <module 'IPython.utils.ulinecache' from '/opt/local/Library/Frameworks/Python.framework/Versions/3.4/lib/python3.4/site-packages/IPython/utils/ulinecache.py'>,\n",
       " 'IPython.utils.version': <module 'IPython.utils.version' from '/opt/local/Library/Frameworks/Python.framework/Versions/3.4/lib/python3.4/site-packages/IPython/utils/version.py'>,\n",
       " 'IPython.utils.warn': <module 'IPython.utils.warn' from '/opt/local/Library/Frameworks/Python.framework/Versions/3.4/lib/python3.4/site-packages/IPython/utils/warn.py'>,\n",
       " 'IPython.utils.wildcard': <module 'IPython.utils.wildcard' from '/opt/local/Library/Frameworks/Python.framework/Versions/3.4/lib/python3.4/site-packages/IPython/utils/wildcard.py'>,\n",
       " 'IPython.utils.zmqrelated': <module 'IPython.utils.zmqrelated' from '/opt/local/Library/Frameworks/Python.framework/Versions/3.4/lib/python3.4/site-packages/IPython/utils/zmqrelated.py'>,\n",
       " 'PyObjCTools': <module 'PyObjCTools'>,\n",
       " '__future__': <module '__future__' from '/opt/local/Library/Frameworks/Python.framework/Versions/3.4/lib/python3.4/__future__.py'>,\n",
       " '__main__': <module '__main__'>,\n",
       " '__mp_main__': <module 'IPython.kernel.__main__' from '/opt/local/Library/Frameworks/Python.framework/Versions/3.4/lib/python3.4/site-packages/IPython/kernel/__main__.py'>,\n",
       " '_ast': <module '_ast' (built-in)>,\n",
       " '_bisect': <module '_bisect' from '/opt/local/Library/Frameworks/Python.framework/Versions/3.4/lib/python3.4/lib-dynload/_bisect.so'>,\n",
       " '_bootlocale': <module '_bootlocale' from '/opt/local/Library/Frameworks/Python.framework/Versions/3.4/lib/python3.4/_bootlocale.py'>,\n",
       " '_bz2': <module '_bz2' from '/opt/local/Library/Frameworks/Python.framework/Versions/3.4/lib/python3.4/lib-dynload/_bz2.so'>,\n",
       " '_codecs': <module '_codecs' (built-in)>,\n",
       " '_collections': <module '_collections' (built-in)>,\n",
       " '_collections_abc': <module '_collections_abc' from '/opt/local/Library/Frameworks/Python.framework/Versions/3.4/lib/python3.4/_collections_abc.py'>,\n",
       " '_compat_pickle': <module '_compat_pickle' from '/opt/local/Library/Frameworks/Python.framework/Versions/3.4/lib/python3.4/_compat_pickle.py'>,\n",
       " '_ctypes': <module '_ctypes' from '/opt/local/Library/Frameworks/Python.framework/Versions/3.4/lib/python3.4/lib-dynload/_ctypes.so'>,\n",
       " '_curses': <module '_curses' from '/opt/local/Library/Frameworks/Python.framework/Versions/3.4/lib/python3.4/lib-dynload/_curses.so'>,\n",
       " '_datetime': <module '_datetime' from '/opt/local/Library/Frameworks/Python.framework/Versions/3.4/lib/python3.4/lib-dynload/_datetime.so'>,\n",
       " '_frozen_importlib': <module 'importlib._bootstrap' (frozen)>,\n",
       " '_functools': <module '_functools' (built-in)>,\n",
       " '_hashlib': <module '_hashlib' from '/opt/local/Library/Frameworks/Python.framework/Versions/3.4/lib/python3.4/lib-dynload/_hashlib.so'>,\n",
       " '_heapq': <module '_heapq' from '/opt/local/Library/Frameworks/Python.framework/Versions/3.4/lib/python3.4/lib-dynload/_heapq.so'>,\n",
       " '_imp': <module '_imp' (built-in)>,\n",
       " '_io': <module 'io' (built-in)>,\n",
       " '_json': <module '_json' from '/opt/local/Library/Frameworks/Python.framework/Versions/3.4/lib/python3.4/lib-dynload/_json.so'>,\n",
       " '_locale': <module '_locale' (built-in)>,\n",
       " '_lsprof': <module '_lsprof' from '/opt/local/Library/Frameworks/Python.framework/Versions/3.4/lib/python3.4/lib-dynload/_lsprof.so'>,\n",
       " '_lzma': <module '_lzma' from '/opt/local/Library/Frameworks/Python.framework/Versions/3.4/lib/python3.4/lib-dynload/_lzma.so'>,\n",
       " '_multiprocessing': <module '_multiprocessing' from '/opt/local/Library/Frameworks/Python.framework/Versions/3.4/lib/python3.4/lib-dynload/_multiprocessing.so'>,\n",
       " '_opcode': <module '_opcode' from '/opt/local/Library/Frameworks/Python.framework/Versions/3.4/lib/python3.4/lib-dynload/_opcode.so'>,\n",
       " '_operator': <module '_operator' (built-in)>,\n",
       " '_osx_support': <module '_osx_support' from '/opt/local/Library/Frameworks/Python.framework/Versions/3.4/lib/python3.4/_osx_support.py'>,\n",
       " '_pickle': <module '_pickle' from '/opt/local/Library/Frameworks/Python.framework/Versions/3.4/lib/python3.4/lib-dynload/_pickle.so'>,\n",
       " '_posixsubprocess': <module '_posixsubprocess' from '/opt/local/Library/Frameworks/Python.framework/Versions/3.4/lib/python3.4/lib-dynload/_posixsubprocess.so'>,\n",
       " '_random': <module '_random' from '/opt/local/Library/Frameworks/Python.framework/Versions/3.4/lib/python3.4/lib-dynload/_random.so'>,\n",
       " '_scproxy': <module '_scproxy' from '/opt/local/Library/Frameworks/Python.framework/Versions/3.4/lib/python3.4/lib-dynload/_scproxy.so'>,\n",
       " '_sitebuiltins': <module '_sitebuiltins' from '/opt/local/Library/Frameworks/Python.framework/Versions/3.4/lib/python3.4/_sitebuiltins.py'>,\n",
       " '_socket': <module '_socket' from '/opt/local/Library/Frameworks/Python.framework/Versions/3.4/lib/python3.4/lib-dynload/_socket.so'>,\n",
       " '_sqlite3': <module '_sqlite3' from '/opt/local/Library/Frameworks/Python.framework/Versions/3.4/lib/python3.4/lib-dynload/_sqlite3.so'>,\n",
       " '_sre': <module '_sre' (built-in)>,\n",
       " '_ssl': <module '_ssl' from '/opt/local/Library/Frameworks/Python.framework/Versions/3.4/lib/python3.4/lib-dynload/_ssl.so'>,\n",
       " '_stat': <module '_stat' (built-in)>,\n",
       " '_string': <module '_string' (built-in)>,\n",
       " '_strptime': <module '_strptime' from '/opt/local/Library/Frameworks/Python.framework/Versions/3.4/lib/python3.4/_strptime.py'>,\n",
       " '_struct': <module '_struct' from '/opt/local/Library/Frameworks/Python.framework/Versions/3.4/lib/python3.4/lib-dynload/_struct.so'>,\n",
       " '_sysconfigdata': <module '_sysconfigdata' from '/opt/local/Library/Frameworks/Python.framework/Versions/3.4/lib/python3.4/_sysconfigdata.py'>,\n",
       " '_thread': <module '_thread' (built-in)>,\n",
       " '_warnings': <module '_warnings' (built-in)>,\n",
       " '_weakref': <module '_weakref' (built-in)>,\n",
       " '_weakrefset': <module '_weakrefset' from '/opt/local/Library/Frameworks/Python.framework/Versions/3.4/lib/python3.4/_weakrefset.py'>,\n",
       " 'abc': <module 'abc' from '/opt/local/Library/Frameworks/Python.framework/Versions/3.4/lib/python3.4/abc.py'>,\n",
       " 'argparse': <module 'argparse' from '/opt/local/Library/Frameworks/Python.framework/Versions/3.4/lib/python3.4/argparse.py'>,\n",
       " 'array': <module 'array' from '/opt/local/Library/Frameworks/Python.framework/Versions/3.4/lib/python3.4/lib-dynload/array.so'>,\n",
       " 'ast': <module 'ast' from '/opt/local/Library/Frameworks/Python.framework/Versions/3.4/lib/python3.4/ast.py'>,\n",
       " 'atexit': <module 'atexit' (built-in)>,\n",
       " 'base64': <module 'base64' from '/opt/local/Library/Frameworks/Python.framework/Versions/3.4/lib/python3.4/base64.py'>,\n",
       " 'bdb': <module 'bdb' from '/opt/local/Library/Frameworks/Python.framework/Versions/3.4/lib/python3.4/bdb.py'>,\n",
       " 'binascii': <module 'binascii' from '/opt/local/Library/Frameworks/Python.framework/Versions/3.4/lib/python3.4/lib-dynload/binascii.so'>,\n",
       " 'bisect': <module 'bisect' from '/opt/local/Library/Frameworks/Python.framework/Versions/3.4/lib/python3.4/bisect.py'>,\n",
       " 'builtins': <module 'builtins' (built-in)>,\n",
       " 'bz2': <module 'bz2' from '/opt/local/Library/Frameworks/Python.framework/Versions/3.4/lib/python3.4/bz2.py'>,\n",
       " 'cProfile': <module 'cProfile' from '/opt/local/Library/Frameworks/Python.framework/Versions/3.4/lib/python3.4/cProfile.py'>,\n",
       " 'calendar': <module 'calendar' from '/opt/local/Library/Frameworks/Python.framework/Versions/3.4/lib/python3.4/calendar.py'>,\n",
       " 'cmd': <module 'cmd' from '/opt/local/Library/Frameworks/Python.framework/Versions/3.4/lib/python3.4/cmd.py'>,\n",
       " 'code': <module 'code' from '/opt/local/Library/Frameworks/Python.framework/Versions/3.4/lib/python3.4/code.py'>,\n",
       " 'codecs': <module 'codecs' from '/opt/local/Library/Frameworks/Python.framework/Versions/3.4/lib/python3.4/codecs.py'>,\n",
       " 'codeop': <module 'codeop' from '/opt/local/Library/Frameworks/Python.framework/Versions/3.4/lib/python3.4/codeop.py'>,\n",
       " 'collections': <module 'collections' from '/opt/local/Library/Frameworks/Python.framework/Versions/3.4/lib/python3.4/collections/__init__.py'>,\n",
       " 'collections.abc': <module 'collections.abc' from '/opt/local/Library/Frameworks/Python.framework/Versions/3.4/lib/python3.4/collections/abc.py'>,\n",
       " 'concurrent': <module 'concurrent' from '/opt/local/Library/Frameworks/Python.framework/Versions/3.4/lib/python3.4/concurrent/__init__.py'>,\n",
       " 'concurrent.futures': <module 'concurrent.futures' from '/opt/local/Library/Frameworks/Python.framework/Versions/3.4/lib/python3.4/concurrent/futures/__init__.py'>,\n",
       " 'concurrent.futures._base': <module 'concurrent.futures._base' from '/opt/local/Library/Frameworks/Python.framework/Versions/3.4/lib/python3.4/concurrent/futures/_base.py'>,\n",
       " 'concurrent.futures.process': <module 'concurrent.futures.process' from '/opt/local/Library/Frameworks/Python.framework/Versions/3.4/lib/python3.4/concurrent/futures/process.py'>,\n",
       " 'concurrent.futures.thread': <module 'concurrent.futures.thread' from '/opt/local/Library/Frameworks/Python.framework/Versions/3.4/lib/python3.4/concurrent/futures/thread.py'>,\n",
       " 'contextlib': <module 'contextlib' from '/opt/local/Library/Frameworks/Python.framework/Versions/3.4/lib/python3.4/contextlib.py'>,\n",
       " 'copy': <module 'copy' from '/opt/local/Library/Frameworks/Python.framework/Versions/3.4/lib/python3.4/copy.py'>,\n",
       " 'copyreg': <module 'copyreg' from '/opt/local/Library/Frameworks/Python.framework/Versions/3.4/lib/python3.4/copyreg.py'>,\n",
       " 'ctypes': <module 'ctypes' from '/opt/local/Library/Frameworks/Python.framework/Versions/3.4/lib/python3.4/ctypes/__init__.py'>,\n",
       " 'ctypes._endian': <module 'ctypes._endian' from '/opt/local/Library/Frameworks/Python.framework/Versions/3.4/lib/python3.4/ctypes/_endian.py'>,\n",
       " 'ctypes.macholib': <module 'ctypes.macholib' from '/opt/local/Library/Frameworks/Python.framework/Versions/3.4/lib/python3.4/ctypes/macholib/__init__.py'>,\n",
       " 'ctypes.macholib.dyld': <module 'ctypes.macholib.dyld' from '/opt/local/Library/Frameworks/Python.framework/Versions/3.4/lib/python3.4/ctypes/macholib/dyld.py'>,\n",
       " 'ctypes.macholib.dylib': <module 'ctypes.macholib.dylib' from '/opt/local/Library/Frameworks/Python.framework/Versions/3.4/lib/python3.4/ctypes/macholib/dylib.py'>,\n",
       " 'ctypes.macholib.framework': <module 'ctypes.macholib.framework' from '/opt/local/Library/Frameworks/Python.framework/Versions/3.4/lib/python3.4/ctypes/macholib/framework.py'>,\n",
       " 'ctypes.util': <module 'ctypes.util' from '/opt/local/Library/Frameworks/Python.framework/Versions/3.4/lib/python3.4/ctypes/util.py'>,\n",
       " 'curses': <module 'curses' from '/opt/local/Library/Frameworks/Python.framework/Versions/3.4/lib/python3.4/curses/__init__.py'>,\n",
       " 'datetime': <module 'datetime' from '/opt/local/Library/Frameworks/Python.framework/Versions/3.4/lib/python3.4/datetime.py'>,\n",
       " 'dis': <module 'dis' from '/opt/local/Library/Frameworks/Python.framework/Versions/3.4/lib/python3.4/dis.py'>,\n",
       " 'distutils': <module 'distutils' from '/opt/local/Library/Frameworks/Python.framework/Versions/3.4/lib/python3.4/distutils/__init__.py'>,\n",
       " 'distutils.version': <module 'distutils.version' from '/opt/local/Library/Frameworks/Python.framework/Versions/3.4/lib/python3.4/distutils/version.py'>,\n",
       " 'email': <module 'email' from '/opt/local/Library/Frameworks/Python.framework/Versions/3.4/lib/python3.4/email/__init__.py'>,\n",
       " 'email._encoded_words': <module 'email._encoded_words' from '/opt/local/Library/Frameworks/Python.framework/Versions/3.4/lib/python3.4/email/_encoded_words.py'>,\n",
       " 'email._parseaddr': <module 'email._parseaddr' from '/opt/local/Library/Frameworks/Python.framework/Versions/3.4/lib/python3.4/email/_parseaddr.py'>,\n",
       " 'email._policybase': <module 'email._policybase' from '/opt/local/Library/Frameworks/Python.framework/Versions/3.4/lib/python3.4/email/_policybase.py'>,\n",
       " 'email.base64mime': <module 'email.base64mime' from '/opt/local/Library/Frameworks/Python.framework/Versions/3.4/lib/python3.4/email/base64mime.py'>,\n",
       " 'email.charset': <module 'email.charset' from '/opt/local/Library/Frameworks/Python.framework/Versions/3.4/lib/python3.4/email/charset.py'>,\n",
       " 'email.encoders': <module 'email.encoders' from '/opt/local/Library/Frameworks/Python.framework/Versions/3.4/lib/python3.4/email/encoders.py'>,\n",
       " 'email.errors': <module 'email.errors' from '/opt/local/Library/Frameworks/Python.framework/Versions/3.4/lib/python3.4/email/errors.py'>,\n",
       " 'email.feedparser': <module 'email.feedparser' from '/opt/local/Library/Frameworks/Python.framework/Versions/3.4/lib/python3.4/email/feedparser.py'>,\n",
       " 'email.header': <module 'email.header' from '/opt/local/Library/Frameworks/Python.framework/Versions/3.4/lib/python3.4/email/header.py'>,\n",
       " 'email.iterators': <module 'email.iterators' from '/opt/local/Library/Frameworks/Python.framework/Versions/3.4/lib/python3.4/email/iterators.py'>,\n",
       " 'email.message': <module 'email.message' from '/opt/local/Library/Frameworks/Python.framework/Versions/3.4/lib/python3.4/email/message.py'>,\n",
       " 'email.parser': <module 'email.parser' from '/opt/local/Library/Frameworks/Python.framework/Versions/3.4/lib/python3.4/email/parser.py'>,\n",
       " 'email.quoprimime': <module 'email.quoprimime' from '/opt/local/Library/Frameworks/Python.framework/Versions/3.4/lib/python3.4/email/quoprimime.py'>,\n",
       " 'email.utils': <module 'email.utils' from '/opt/local/Library/Frameworks/Python.framework/Versions/3.4/lib/python3.4/email/utils.py'>,\n",
       " 'encodings': <module 'encodings' from '/opt/local/Library/Frameworks/Python.framework/Versions/3.4/lib/python3.4/encodings/__init__.py'>,\n",
       " 'encodings.aliases': <module 'encodings.aliases' from '/opt/local/Library/Frameworks/Python.framework/Versions/3.4/lib/python3.4/encodings/aliases.py'>,\n",
       " 'encodings.latin_1': <module 'encodings.latin_1' from '/opt/local/Library/Frameworks/Python.framework/Versions/3.4/lib/python3.4/encodings/latin_1.py'>,\n",
       " 'encodings.utf_8': <module 'encodings.utf_8' from '/opt/local/Library/Frameworks/Python.framework/Versions/3.4/lib/python3.4/encodings/utf_8.py'>,\n",
       " 'enum': <module 'enum' from '/opt/local/Library/Frameworks/Python.framework/Versions/3.4/lib/python3.4/enum.py'>,\n",
       " 'errno': <module 'errno' (built-in)>,\n",
       " 'fcntl': <module 'fcntl' from '/opt/local/Library/Frameworks/Python.framework/Versions/3.4/lib/python3.4/lib-dynload/fcntl.so'>,\n",
       " 'fnmatch': <module 'fnmatch' from '/opt/local/Library/Frameworks/Python.framework/Versions/3.4/lib/python3.4/fnmatch.py'>,\n",
       " 'functools': <module 'functools' from '/opt/local/Library/Frameworks/Python.framework/Versions/3.4/lib/python3.4/functools.py'>,\n",
       " 'gc': <module 'gc' (built-in)>,\n",
       " 'genericpath': <module 'genericpath' from '/opt/local/Library/Frameworks/Python.framework/Versions/3.4/lib/python3.4/genericpath.py'>,\n",
       " 'getopt': <module 'getopt' from '/opt/local/Library/Frameworks/Python.framework/Versions/3.4/lib/python3.4/getopt.py'>,\n",
       " 'getpass': <module 'getpass' from '/opt/local/Library/Frameworks/Python.framework/Versions/3.4/lib/python3.4/getpass.py'>,\n",
       " 'gettext': <module 'gettext' from '/opt/local/Library/Frameworks/Python.framework/Versions/3.4/lib/python3.4/gettext.py'>,\n",
       " 'glob': <module 'glob' from '/opt/local/Library/Frameworks/Python.framework/Versions/3.4/lib/python3.4/glob.py'>,\n",
       " 'grp': <module 'grp' from '/opt/local/Library/Frameworks/Python.framework/Versions/3.4/lib/python3.4/lib-dynload/grp.so'>,\n",
       " 'hashlib': <module 'hashlib' from '/opt/local/Library/Frameworks/Python.framework/Versions/3.4/lib/python3.4/hashlib.py'>,\n",
       " 'heapq': <module 'heapq' from '/opt/local/Library/Frameworks/Python.framework/Versions/3.4/lib/python3.4/heapq.py'>,\n",
       " 'hmac': <module 'hmac' from '/opt/local/Library/Frameworks/Python.framework/Versions/3.4/lib/python3.4/hmac.py'>,\n",
       " 'html': <module 'html' from '/opt/local/Library/Frameworks/Python.framework/Versions/3.4/lib/python3.4/html/__init__.py'>,\n",
       " 'html.entities': <module 'html.entities' from '/opt/local/Library/Frameworks/Python.framework/Versions/3.4/lib/python3.4/html/entities.py'>,\n",
       " 'http': <module 'http' from '/opt/local/Library/Frameworks/Python.framework/Versions/3.4/lib/python3.4/http/__init__.py'>,\n",
       " 'http.client': <module 'http.client' from '/opt/local/Library/Frameworks/Python.framework/Versions/3.4/lib/python3.4/http/client.py'>,\n",
       " 'imp': <module 'imp' from '/opt/local/Library/Frameworks/Python.framework/Versions/3.4/lib/python3.4/imp.py'>,\n",
       " 'importlib': <module 'importlib' from '/opt/local/Library/Frameworks/Python.framework/Versions/3.4/lib/python3.4/importlib/__init__.py'>,\n",
       " 'importlib._bootstrap': <module 'importlib._bootstrap' (frozen)>,\n",
       " 'importlib.machinery': <module 'importlib.machinery' from '/opt/local/Library/Frameworks/Python.framework/Versions/3.4/lib/python3.4/importlib/machinery.py'>,\n",
       " 'importlib.util': <module 'importlib.util' from '/opt/local/Library/Frameworks/Python.framework/Versions/3.4/lib/python3.4/importlib/util.py'>,\n",
       " 'inspect': <module 'inspect' from '/opt/local/Library/Frameworks/Python.framework/Versions/3.4/lib/python3.4/inspect.py'>,\n",
       " 'io': <module 'io' from '/opt/local/Library/Frameworks/Python.framework/Versions/3.4/lib/python3.4/io.py'>,\n",
       " 'itertools': <module 'itertools' (built-in)>,\n",
       " 'json': <module 'json' from '/opt/local/Library/Frameworks/Python.framework/Versions/3.4/lib/python3.4/json/__init__.py'>,\n",
       " 'json.decoder': <module 'json.decoder' from '/opt/local/Library/Frameworks/Python.framework/Versions/3.4/lib/python3.4/json/decoder.py'>,\n",
       " 'json.encoder': <module 'json.encoder' from '/opt/local/Library/Frameworks/Python.framework/Versions/3.4/lib/python3.4/json/encoder.py'>,\n",
       " 'json.scanner': <module 'json.scanner' from '/opt/local/Library/Frameworks/Python.framework/Versions/3.4/lib/python3.4/json/scanner.py'>,\n",
       " 'keyword': <module 'keyword' from '/opt/local/Library/Frameworks/Python.framework/Versions/3.4/lib/python3.4/keyword.py'>,\n",
       " 'linecache': <module 'linecache' from '/opt/local/Library/Frameworks/Python.framework/Versions/3.4/lib/python3.4/linecache.py'>,\n",
       " 'locale': <module 'locale' from '/opt/local/Library/Frameworks/Python.framework/Versions/3.4/lib/python3.4/locale.py'>,\n",
       " 'logging': <module 'logging' from '/opt/local/Library/Frameworks/Python.framework/Versions/3.4/lib/python3.4/logging/__init__.py'>,\n",
       " 'logging.handlers': <module 'logging.handlers' from '/opt/local/Library/Frameworks/Python.framework/Versions/3.4/lib/python3.4/logging/handlers.py'>,\n",
       " 'lzma': <module 'lzma' from '/opt/local/Library/Frameworks/Python.framework/Versions/3.4/lib/python3.4/lzma.py'>,\n",
       " 'marshal': <module 'marshal' (built-in)>,\n",
       " 'math': <module 'math' from '/opt/local/Library/Frameworks/Python.framework/Versions/3.4/lib/python3.4/lib-dynload/math.so'>,\n",
       " 'mimetypes': <module 'mimetypes' from '/opt/local/Library/Frameworks/Python.framework/Versions/3.4/lib/python3.4/mimetypes.py'>,\n",
       " 'mpl_toolkits': <module 'mpl_toolkits'>,\n",
       " 'multiprocessing': <module 'multiprocessing' from '/opt/local/Library/Frameworks/Python.framework/Versions/3.4/lib/python3.4/multiprocessing/__init__.py'>,\n",
       " 'multiprocessing.connection': <module 'multiprocessing.connection' from '/opt/local/Library/Frameworks/Python.framework/Versions/3.4/lib/python3.4/multiprocessing/connection.py'>,\n",
       " 'multiprocessing.context': <module 'multiprocessing.context' from '/opt/local/Library/Frameworks/Python.framework/Versions/3.4/lib/python3.4/multiprocessing/context.py'>,\n",
       " 'multiprocessing.process': <module 'multiprocessing.process' from '/opt/local/Library/Frameworks/Python.framework/Versions/3.4/lib/python3.4/multiprocessing/process.py'>,\n",
       " 'multiprocessing.reduction': <module 'multiprocessing.reduction' from '/opt/local/Library/Frameworks/Python.framework/Versions/3.4/lib/python3.4/multiprocessing/reduction.py'>,\n",
       " 'multiprocessing.util': <module 'multiprocessing.util' from '/opt/local/Library/Frameworks/Python.framework/Versions/3.4/lib/python3.4/multiprocessing/util.py'>,\n",
       " 'numbers': <module 'numbers' from '/opt/local/Library/Frameworks/Python.framework/Versions/3.4/lib/python3.4/numbers.py'>,\n",
       " 'opcode': <module 'opcode' from '/opt/local/Library/Frameworks/Python.framework/Versions/3.4/lib/python3.4/opcode.py'>,\n",
       " 'operator': <module 'operator' from '/opt/local/Library/Frameworks/Python.framework/Versions/3.4/lib/python3.4/operator.py'>,\n",
       " 'optparse': <module 'optparse' from '/opt/local/Library/Frameworks/Python.framework/Versions/3.4/lib/python3.4/optparse.py'>,\n",
       " 'os': <module 'os' from '/opt/local/Library/Frameworks/Python.framework/Versions/3.4/lib/python3.4/os.py'>,\n",
       " 'os.path': <module 'posixpath' from '/opt/local/Library/Frameworks/Python.framework/Versions/3.4/lib/python3.4/posixpath.py'>,\n",
       " 'pdb': <module 'pdb' from '/opt/local/Library/Frameworks/Python.framework/Versions/3.4/lib/python3.4/pdb.py'>,\n",
       " 'pickle': <module 'pickle' from '/opt/local/Library/Frameworks/Python.framework/Versions/3.4/lib/python3.4/pickle.py'>,\n",
       " 'pkgutil': <module 'pkgutil' from '/opt/local/Library/Frameworks/Python.framework/Versions/3.4/lib/python3.4/pkgutil.py'>,\n",
       " 'platform': <module 'platform' from '/opt/local/Library/Frameworks/Python.framework/Versions/3.4/lib/python3.4/platform.py'>,\n",
       " 'posix': <module 'posix' (built-in)>,\n",
       " 'posixpath': <module 'posixpath' from '/opt/local/Library/Frameworks/Python.framework/Versions/3.4/lib/python3.4/posixpath.py'>,\n",
       " 'pprint': <module 'pprint' from '/opt/local/Library/Frameworks/Python.framework/Versions/3.4/lib/python3.4/pprint.py'>,\n",
       " 'profile': <module 'profile' from '/opt/local/Library/Frameworks/Python.framework/Versions/3.4/lib/python3.4/profile.py'>,\n",
       " 'pstats': <module 'pstats' from '/opt/local/Library/Frameworks/Python.framework/Versions/3.4/lib/python3.4/pstats.py'>,\n",
       " 'pty': <module 'pty' from '/opt/local/Library/Frameworks/Python.framework/Versions/3.4/lib/python3.4/pty.py'>,\n",
       " 'pwd': <module 'pwd' (built-in)>,\n",
       " 'pydoc': <module 'pydoc' from '/opt/local/Library/Frameworks/Python.framework/Versions/3.4/lib/python3.4/pydoc.py'>,\n",
       " 'queue': <module 'queue' from '/opt/local/Library/Frameworks/Python.framework/Versions/3.4/lib/python3.4/queue.py'>,\n",
       " 'quopri': <module 'quopri' from '/opt/local/Library/Frameworks/Python.framework/Versions/3.4/lib/python3.4/quopri.py'>,\n",
       " 'random': <module 'random' from '/opt/local/Library/Frameworks/Python.framework/Versions/3.4/lib/python3.4/random.py'>,\n",
       " 're': <module 're' from '/opt/local/Library/Frameworks/Python.framework/Versions/3.4/lib/python3.4/re.py'>,\n",
       " 'readline': <module 'readline' from '/opt/local/Library/Frameworks/Python.framework/Versions/3.4/lib/python3.4/site-packages/readline/readline.so'>,\n",
       " 'readline_path': <module 'readline_path' from '/opt/local/Library/Frameworks/Python.framework/Versions/3.4/lib/python3.4/site-packages/readline_path.py'>,\n",
       " 'reprlib': <module 'reprlib' from '/opt/local/Library/Frameworks/Python.framework/Versions/3.4/lib/python3.4/reprlib.py'>,\n",
       " 'resource': <module 'resource' from '/opt/local/Library/Frameworks/Python.framework/Versions/3.4/lib/python3.4/lib-dynload/resource.so'>,\n",
       " 'runpy': <module 'runpy' from '/opt/local/Library/Frameworks/Python.framework/Versions/3.4/lib/python3.4/runpy.py'>,\n",
       " 'select': <module 'select' from '/opt/local/Library/Frameworks/Python.framework/Versions/3.4/lib/python3.4/lib-dynload/select.so'>,\n",
       " 'selectors': <module 'selectors' from '/opt/local/Library/Frameworks/Python.framework/Versions/3.4/lib/python3.4/selectors.py'>,\n",
       " 'shlex': <module 'shlex' from '/opt/local/Library/Frameworks/Python.framework/Versions/3.4/lib/python3.4/shlex.py'>,\n",
       " 'shutil': <module 'shutil' from '/opt/local/Library/Frameworks/Python.framework/Versions/3.4/lib/python3.4/shutil.py'>,\n",
       " 'signal': <module 'signal' (built-in)>,\n",
       " 'site': <module 'site' from '/opt/local/Library/Frameworks/Python.framework/Versions/3.4/lib/python3.4/site.py'>,\n",
       " 'socket': <module 'socket' from '/opt/local/Library/Frameworks/Python.framework/Versions/3.4/lib/python3.4/socket.py'>,\n",
       " 'sqlite3': <module 'sqlite3' from '/opt/local/Library/Frameworks/Python.framework/Versions/3.4/lib/python3.4/sqlite3/__init__.py'>,\n",
       " 'sqlite3.dbapi2': <module 'sqlite3.dbapi2' from '/opt/local/Library/Frameworks/Python.framework/Versions/3.4/lib/python3.4/sqlite3/dbapi2.py'>,\n",
       " 'sre_compile': <module 'sre_compile' from '/opt/local/Library/Frameworks/Python.framework/Versions/3.4/lib/python3.4/sre_compile.py'>,\n",
       " 'sre_constants': <module 'sre_constants' from '/opt/local/Library/Frameworks/Python.framework/Versions/3.4/lib/python3.4/sre_constants.py'>,\n",
       " 'sre_parse': <module 'sre_parse' from '/opt/local/Library/Frameworks/Python.framework/Versions/3.4/lib/python3.4/sre_parse.py'>,\n",
       " 'ssl': <module 'ssl' from '/opt/local/Library/Frameworks/Python.framework/Versions/3.4/lib/python3.4/ssl.py'>,\n",
       " 'stat': <module 'stat' from '/opt/local/Library/Frameworks/Python.framework/Versions/3.4/lib/python3.4/stat.py'>,\n",
       " 'storemagic': <module 'storemagic' from '/opt/local/Library/Frameworks/Python.framework/Versions/3.4/lib/python3.4/site-packages/IPython/extensions/storemagic.py'>,\n",
       " 'string': <module 'string' from '/opt/local/Library/Frameworks/Python.framework/Versions/3.4/lib/python3.4/string.py'>,\n",
       " 'struct': <module 'struct' from '/opt/local/Library/Frameworks/Python.framework/Versions/3.4/lib/python3.4/struct.py'>,\n",
       " 'subprocess': <module 'subprocess' from '/opt/local/Library/Frameworks/Python.framework/Versions/3.4/lib/python3.4/subprocess.py'>,\n",
       " 'sys': <module 'sys' (built-in)>,\n",
       " 'sysconfig': <module 'sysconfig' from '/opt/local/Library/Frameworks/Python.framework/Versions/3.4/lib/python3.4/sysconfig.py'>,\n",
       " 'tarfile': <module 'tarfile' from '/opt/local/Library/Frameworks/Python.framework/Versions/3.4/lib/python3.4/tarfile.py'>,\n",
       " 'tempfile': <module 'tempfile' from '/opt/local/Library/Frameworks/Python.framework/Versions/3.4/lib/python3.4/tempfile.py'>,\n",
       " 'termios': <module 'termios' from '/opt/local/Library/Frameworks/Python.framework/Versions/3.4/lib/python3.4/lib-dynload/termios.so'>,\n",
       " 'textwrap': <module 'textwrap' from '/opt/local/Library/Frameworks/Python.framework/Versions/3.4/lib/python3.4/textwrap.py'>,\n",
       " 'threading': <module 'threading' from '/opt/local/Library/Frameworks/Python.framework/Versions/3.4/lib/python3.4/threading.py'>,\n",
       " 'time': <module 'time' from '/opt/local/Library/Frameworks/Python.framework/Versions/3.4/lib/python3.4/lib-dynload/time.so'>,\n",
       " 'timeit': <module 'timeit' from '/opt/local/Library/Frameworks/Python.framework/Versions/3.4/lib/python3.4/timeit.py'>,\n",
       " 'token': <module 'token' from '/opt/local/Library/Frameworks/Python.framework/Versions/3.4/lib/python3.4/token.py'>,\n",
       " 'tokenize': <module 'tokenize' from '/opt/local/Library/Frameworks/Python.framework/Versions/3.4/lib/python3.4/tokenize.py'>,\n",
       " 'tornado': <module 'tornado' from '/opt/local/Library/Frameworks/Python.framework/Versions/3.4/lib/python3.4/site-packages/tornado/__init__.py'>,\n",
       " 'tornado.concurrent': <module 'tornado.concurrent' from '/opt/local/Library/Frameworks/Python.framework/Versions/3.4/lib/python3.4/site-packages/tornado/concurrent.py'>,\n",
       " 'tornado.escape': <module 'tornado.escape' from '/opt/local/Library/Frameworks/Python.framework/Versions/3.4/lib/python3.4/site-packages/tornado/escape.py'>,\n",
       " 'tornado.ioloop': <module 'tornado.ioloop' from '/opt/local/Library/Frameworks/Python.framework/Versions/3.4/lib/python3.4/site-packages/tornado/ioloop.py'>,\n",
       " 'tornado.log': <module 'tornado.log' from '/opt/local/Library/Frameworks/Python.framework/Versions/3.4/lib/python3.4/site-packages/tornado/log.py'>,\n",
       " 'tornado.platform': <module 'tornado.platform' from '/opt/local/Library/Frameworks/Python.framework/Versions/3.4/lib/python3.4/site-packages/tornado/platform/__init__.py'>,\n",
       " 'tornado.platform.auto': <module 'tornado.platform.auto' from '/opt/local/Library/Frameworks/Python.framework/Versions/3.4/lib/python3.4/site-packages/tornado/platform/auto.py'>,\n",
       " 'tornado.platform.interface': <module 'tornado.platform.interface' from '/opt/local/Library/Frameworks/Python.framework/Versions/3.4/lib/python3.4/site-packages/tornado/platform/interface.py'>,\n",
       " 'tornado.platform.posix': <module 'tornado.platform.posix' from '/opt/local/Library/Frameworks/Python.framework/Versions/3.4/lib/python3.4/site-packages/tornado/platform/posix.py'>,\n",
       " 'tornado.speedups': <module 'tornado.speedups' from '/opt/local/Library/Frameworks/Python.framework/Versions/3.4/lib/python3.4/site-packages/tornado/speedups.so'>,\n",
       " 'tornado.stack_context': <module 'tornado.stack_context' from '/opt/local/Library/Frameworks/Python.framework/Versions/3.4/lib/python3.4/site-packages/tornado/stack_context.py'>,\n",
       " 'tornado.util': <module 'tornado.util' from '/opt/local/Library/Frameworks/Python.framework/Versions/3.4/lib/python3.4/site-packages/tornado/util.py'>,\n",
       " 'traceback': <module 'traceback' from '/opt/local/Library/Frameworks/Python.framework/Versions/3.4/lib/python3.4/traceback.py'>,\n",
       " 'tty': <module 'tty' from '/opt/local/Library/Frameworks/Python.framework/Versions/3.4/lib/python3.4/tty.py'>,\n",
       " 'types': <module 'types' from '/opt/local/Library/Frameworks/Python.framework/Versions/3.4/lib/python3.4/types.py'>,\n",
       " 'urllib': <module 'urllib' from '/opt/local/Library/Frameworks/Python.framework/Versions/3.4/lib/python3.4/urllib/__init__.py'>,\n",
       " 'urllib.error': <module 'urllib.error' from '/opt/local/Library/Frameworks/Python.framework/Versions/3.4/lib/python3.4/urllib/error.py'>,\n",
       " 'urllib.parse': <module 'urllib.parse' from '/opt/local/Library/Frameworks/Python.framework/Versions/3.4/lib/python3.4/urllib/parse.py'>,\n",
       " 'urllib.request': <module 'urllib.request' from '/opt/local/Library/Frameworks/Python.framework/Versions/3.4/lib/python3.4/urllib/request.py'>,\n",
       " 'urllib.response': <module 'urllib.response' from '/opt/local/Library/Frameworks/Python.framework/Versions/3.4/lib/python3.4/urllib/response.py'>,\n",
       " 'uu': <module 'uu' from '/opt/local/Library/Frameworks/Python.framework/Versions/3.4/lib/python3.4/uu.py'>,\n",
       " 'uuid': <module 'uuid' from '/opt/local/Library/Frameworks/Python.framework/Versions/3.4/lib/python3.4/uuid.py'>,\n",
       " 'warnings': <module 'warnings' from '/opt/local/Library/Frameworks/Python.framework/Versions/3.4/lib/python3.4/warnings.py'>,\n",
       " 'weakref': <module 'weakref' from '/opt/local/Library/Frameworks/Python.framework/Versions/3.4/lib/python3.4/weakref.py'>,\n",
       " 'zipfile': <module 'zipfile' from '/opt/local/Library/Frameworks/Python.framework/Versions/3.4/lib/python3.4/zipfile.py'>,\n",
       " 'zipimport': <module 'zipimport' (built-in)>,\n",
       " 'zlib': <module 'zlib' from '/opt/local/Library/Frameworks/Python.framework/Versions/3.4/lib/python3.4/lib-dynload/zlib.so'>,\n",
       " 'zmq': <module 'zmq' from '/opt/local/Library/Frameworks/Python.framework/Versions/3.4/lib/python3.4/site-packages/zmq/__init__.py'>,\n",
       " 'zmq.backend': <module 'zmq.backend' from '/opt/local/Library/Frameworks/Python.framework/Versions/3.4/lib/python3.4/site-packages/zmq/backend/__init__.py'>,\n",
       " 'zmq.backend.cython': <module 'zmq.backend.cython' from '/opt/local/Library/Frameworks/Python.framework/Versions/3.4/lib/python3.4/site-packages/zmq/backend/cython/__init__.py'>,\n",
       " 'zmq.backend.cython._device': <module 'zmq.backend.cython._device' from '/opt/local/Library/Frameworks/Python.framework/Versions/3.4/lib/python3.4/site-packages/zmq/backend/cython/_device.so'>,\n",
       " 'zmq.backend.cython._poll': <module 'zmq.backend.cython._poll' from '/opt/local/Library/Frameworks/Python.framework/Versions/3.4/lib/python3.4/site-packages/zmq/backend/cython/_poll.so'>,\n",
       " 'zmq.backend.cython._version': <module 'zmq.backend.cython._version' from '/opt/local/Library/Frameworks/Python.framework/Versions/3.4/lib/python3.4/site-packages/zmq/backend/cython/_version.so'>,\n",
       " 'zmq.backend.cython.constants': <module 'zmq.backend.cython.constants' from '/opt/local/Library/Frameworks/Python.framework/Versions/3.4/lib/python3.4/site-packages/zmq/backend/cython/constants.so'>,\n",
       " 'zmq.backend.cython.context': <module 'zmq.backend.cython.context' from '/opt/local/Library/Frameworks/Python.framework/Versions/3.4/lib/python3.4/site-packages/zmq/backend/cython/context.so'>,\n",
       " 'zmq.backend.cython.error': <module 'zmq.backend.cython.error' from '/opt/local/Library/Frameworks/Python.framework/Versions/3.4/lib/python3.4/site-packages/zmq/backend/cython/error.so'>,\n",
       " 'zmq.backend.cython.message': <module 'zmq.backend.cython.message' from '/opt/local/Library/Frameworks/Python.framework/Versions/3.4/lib/python3.4/site-packages/zmq/backend/cython/message.so'>,\n",
       " 'zmq.backend.cython.socket': <module 'zmq.backend.cython.socket' from '/opt/local/Library/Frameworks/Python.framework/Versions/3.4/lib/python3.4/site-packages/zmq/backend/cython/socket.so'>,\n",
       " 'zmq.backend.cython.utils': <module 'zmq.backend.cython.utils' from '/opt/local/Library/Frameworks/Python.framework/Versions/3.4/lib/python3.4/site-packages/zmq/backend/cython/utils.so'>,\n",
       " 'zmq.backend.select': <module 'zmq.backend.select' from '/opt/local/Library/Frameworks/Python.framework/Versions/3.4/lib/python3.4/site-packages/zmq/backend/select.py'>,\n",
       " 'zmq.devices': <module 'zmq.devices' from '/opt/local/Library/Frameworks/Python.framework/Versions/3.4/lib/python3.4/site-packages/zmq/devices/__init__.py'>,\n",
       " 'zmq.devices.basedevice': <module 'zmq.devices.basedevice' from '/opt/local/Library/Frameworks/Python.framework/Versions/3.4/lib/python3.4/site-packages/zmq/devices/basedevice.py'>,\n",
       " 'zmq.devices.monitoredqueue': <module 'zmq.devices.monitoredqueue' from '/opt/local/Library/Frameworks/Python.framework/Versions/3.4/lib/python3.4/site-packages/zmq/devices/monitoredqueue.so'>,\n",
       " 'zmq.devices.monitoredqueuedevice': <module 'zmq.devices.monitoredqueuedevice' from '/opt/local/Library/Frameworks/Python.framework/Versions/3.4/lib/python3.4/site-packages/zmq/devices/monitoredqueuedevice.py'>,\n",
       " 'zmq.devices.proxydevice': <module 'zmq.devices.proxydevice' from '/opt/local/Library/Frameworks/Python.framework/Versions/3.4/lib/python3.4/site-packages/zmq/devices/proxydevice.py'>,\n",
       " 'zmq.error': <module 'zmq.error' from '/opt/local/Library/Frameworks/Python.framework/Versions/3.4/lib/python3.4/site-packages/zmq/error.py'>,\n",
       " 'zmq.eventloop': <module 'zmq.eventloop' from '/opt/local/Library/Frameworks/Python.framework/Versions/3.4/lib/python3.4/site-packages/zmq/eventloop/__init__.py'>,\n",
       " 'zmq.eventloop.ioloop': <module 'zmq.eventloop.ioloop' from '/opt/local/Library/Frameworks/Python.framework/Versions/3.4/lib/python3.4/site-packages/zmq/eventloop/ioloop.py'>,\n",
       " 'zmq.eventloop.zmqstream': <module 'zmq.eventloop.zmqstream' from '/opt/local/Library/Frameworks/Python.framework/Versions/3.4/lib/python3.4/site-packages/zmq/eventloop/zmqstream.py'>,\n",
       " 'zmq.sugar': <module 'zmq.sugar' from '/opt/local/Library/Frameworks/Python.framework/Versions/3.4/lib/python3.4/site-packages/zmq/sugar/__init__.py'>,\n",
       " 'zmq.sugar.attrsettr': <module 'zmq.sugar.attrsettr' from '/opt/local/Library/Frameworks/Python.framework/Versions/3.4/lib/python3.4/site-packages/zmq/sugar/attrsettr.py'>,\n",
       " 'zmq.sugar.constants': <module 'zmq.sugar.constants' from '/opt/local/Library/Frameworks/Python.framework/Versions/3.4/lib/python3.4/site-packages/zmq/sugar/constants.py'>,\n",
       " 'zmq.sugar.context': <module 'zmq.sugar.context' from '/opt/local/Library/Frameworks/Python.framework/Versions/3.4/lib/python3.4/site-packages/zmq/sugar/context.py'>,\n",
       " 'zmq.sugar.frame': <module 'zmq.sugar.frame' from '/opt/local/Library/Frameworks/Python.framework/Versions/3.4/lib/python3.4/site-packages/zmq/sugar/frame.py'>,\n",
       " 'zmq.sugar.poll': <module 'zmq.sugar.poll' from '/opt/local/Library/Frameworks/Python.framework/Versions/3.4/lib/python3.4/site-packages/zmq/sugar/poll.py'>,\n",
       " 'zmq.sugar.socket': <module 'zmq.sugar.socket' from '/opt/local/Library/Frameworks/Python.framework/Versions/3.4/lib/python3.4/site-packages/zmq/sugar/socket.py'>,\n",
       " 'zmq.sugar.tracker': <module 'zmq.sugar.tracker' from '/opt/local/Library/Frameworks/Python.framework/Versions/3.4/lib/python3.4/site-packages/zmq/sugar/tracker.py'>,\n",
       " 'zmq.sugar.version': <module 'zmq.sugar.version' from '/opt/local/Library/Frameworks/Python.framework/Versions/3.4/lib/python3.4/site-packages/zmq/sugar/version.py'>,\n",
       " 'zmq.utils': <module 'zmq.utils' from '/opt/local/Library/Frameworks/Python.framework/Versions/3.4/lib/python3.4/site-packages/zmq/utils/__init__.py'>,\n",
       " 'zmq.utils.constant_names': <module 'zmq.utils.constant_names' from '/opt/local/Library/Frameworks/Python.framework/Versions/3.4/lib/python3.4/site-packages/zmq/utils/constant_names.py'>,\n",
       " 'zmq.utils.interop': <module 'zmq.utils.interop' from '/opt/local/Library/Frameworks/Python.framework/Versions/3.4/lib/python3.4/site-packages/zmq/utils/interop.py'>,\n",
       " 'zmq.utils.jsonapi': <module 'zmq.utils.jsonapi' from '/opt/local/Library/Frameworks/Python.framework/Versions/3.4/lib/python3.4/site-packages/zmq/utils/jsonapi.py'>,\n",
       " 'zmq.utils.sixcerpt': <module 'zmq.utils.sixcerpt' from '/opt/local/Library/Frameworks/Python.framework/Versions/3.4/lib/python3.4/site-packages/zmq/utils/sixcerpt.py'>,\n",
       " 'zmq.utils.strtypes': <module 'zmq.utils.strtypes' from '/opt/local/Library/Frameworks/Python.framework/Versions/3.4/lib/python3.4/site-packages/zmq/utils/strtypes.py'>}"
      ]
     },
     "execution_count": 1,
     "metadata": {},
     "output_type": "execute_result"
    }
   ],
   "source": [
    "import sys\n",
    "sys.modules"
   ]
  },
  {
   "cell_type": "code",
   "execution_count": 2,
   "metadata": {
    "collapsed": false
   },
   "outputs": [
    {
     "data": {
      "text/plain": [
       "[_frozen_importlib.BuiltinImporter,\n",
       " _frozen_importlib.FrozenImporter,\n",
       " _frozen_importlib.PathFinder]"
      ]
     },
     "execution_count": 2,
     "metadata": {},
     "output_type": "execute_result"
    }
   ],
   "source": [
    "sys.meta_path"
   ]
  },
  {
   "cell_type": "code",
   "execution_count": 3,
   "metadata": {
    "collapsed": false
   },
   "outputs": [
    {
     "data": {
      "text/plain": [
       "['',\n",
       " '/opt/local/Library/Frameworks/Python.framework/Versions/3.4/lib/python34.zip',\n",
       " '/opt/local/Library/Frameworks/Python.framework/Versions/3.4/lib/python3.4',\n",
       " '/opt/local/Library/Frameworks/Python.framework/Versions/3.4/lib/python3.4/plat-darwin',\n",
       " '/opt/local/Library/Frameworks/Python.framework/Versions/3.4/lib/python3.4/site-packages/readline',\n",
       " '/opt/local/Library/Frameworks/Python.framework/Versions/3.4/lib/python3.4/lib-dynload',\n",
       " '/opt/local/Library/Frameworks/Python.framework/Versions/3.4/lib/python3.4/site-packages',\n",
       " '/opt/local/Library/Frameworks/Python.framework/Versions/3.4/lib/python3.4/site-packages/IPython/extensions']"
      ]
     },
     "execution_count": 3,
     "metadata": {},
     "output_type": "execute_result"
    }
   ],
   "source": [
    "sys.path"
   ]
  },
  {
   "cell_type": "code",
   "execution_count": 4,
   "metadata": {
    "collapsed": false
   },
   "outputs": [
    {
     "name": "stdout",
     "output_type": "stream",
     "text": [
      "['', '/asdf', '/opt/local/Library/Frameworks/Python.framework/Versions/3.4/lib/python34.zip', '/opt/local/Library/Frameworks/Python.framework/Versions/3.4/lib/python3.4', '/opt/local/Library/Frameworks/Python.framework/Versions/3.4/lib/python3.4/plat-darwin', '/opt/local/Library/Frameworks/Python.framework/Versions/3.4/lib/python3.4/site-packages/readline', '/opt/local/Library/Frameworks/Python.framework/Versions/3.4/lib/python3.4/lib-dynload', '/opt/local/Library/Frameworks/Python.framework/Versions/3.4/lib/python3.4/site-packages']\r\n"
     ]
    }
   ],
   "source": [
    "!PYTHONPATH=/asdf python3.4 -c 'import sys; print(sys.path)'"
   ]
  },
  {
   "cell_type": "markdown",
   "metadata": {},
   "source": [
    "# Создание модулей"
   ]
  },
  {
   "cell_type": "code",
   "execution_count": 1,
   "metadata": {
    "collapsed": false
   },
   "outputs": [
    {
     "name": "stdout",
     "output_type": "stream",
     "text": [
      "Writing module.py\n"
     ]
    }
   ],
   "source": [
    "%%writefile module.py\n",
    "\n",
    "def f():\n",
    "    pass\n",
    "\n",
    "class C:\n",
    "    pass\n",
    "\n",
    "x = 1\n",
    "\n",
    "print('hello from module.py')"
   ]
  },
  {
   "cell_type": "code",
   "execution_count": 2,
   "metadata": {
    "collapsed": false
   },
   "outputs": [
    {
     "name": "stdout",
     "output_type": "stream",
     "text": [
      "hello from module.py\n"
     ]
    }
   ],
   "source": [
    "import module"
   ]
  },
  {
   "cell_type": "code",
   "execution_count": 3,
   "metadata": {
    "collapsed": false
   },
   "outputs": [
    {
     "data": {
      "text/plain": [
       "['C',\n",
       " '__builtins__',\n",
       " '__cached__',\n",
       " '__doc__',\n",
       " '__file__',\n",
       " '__loader__',\n",
       " '__name__',\n",
       " '__package__',\n",
       " '__spec__',\n",
       " 'f',\n",
       " 'x']"
      ]
     },
     "execution_count": 3,
     "metadata": {},
     "output_type": "execute_result"
    }
   ],
   "source": [
    "dir(module)"
   ]
  },
  {
   "cell_type": "code",
   "execution_count": 4,
   "metadata": {
    "collapsed": false
   },
   "outputs": [
    {
     "name": "stdout",
     "output_type": "stream",
     "text": [
      "Overwriting module.py\n"
     ]
    }
   ],
   "source": [
    "%%writefile module.py\n",
    "\n",
    "def f():\n",
    "    pass\n",
    "\n",
    "class C:\n",
    "    pass\n",
    "\n",
    "x = 1\n",
    "\n",
    "if __name__ == '__main__':\n",
    "    print('hello from main')\n",
    "else:\n",
    "    print('hello from module.py')\n"
   ]
  },
  {
   "cell_type": "code",
   "execution_count": 1,
   "metadata": {
    "collapsed": false
   },
   "outputs": [
    {
     "name": "stdout",
     "output_type": "stream",
     "text": [
      "hello from main\r\n"
     ]
    }
   ],
   "source": [
    "!python3.4 module.py"
   ]
  },
  {
   "cell_type": "code",
   "execution_count": 2,
   "metadata": {
    "collapsed": false
   },
   "outputs": [
    {
     "name": "stdout",
     "output_type": "stream",
     "text": [
      "hello from module.py\n"
     ]
    }
   ],
   "source": [
    "import module"
   ]
  },
  {
   "cell_type": "markdown",
   "metadata": {},
   "source": [
    "# Пакеты"
   ]
  },
  {
   "cell_type": "code",
   "execution_count": 1,
   "metadata": {
    "collapsed": true
   },
   "outputs": [],
   "source": [
    "!mkdir package"
   ]
  },
  {
   "cell_type": "code",
   "execution_count": 2,
   "metadata": {
    "collapsed": false
   },
   "outputs": [
    {
     "name": "stdout",
     "output_type": "stream",
     "text": [
      "Writing package/__init__.py\n"
     ]
    }
   ],
   "source": [
    "%%writefile package/__init__.py\n",
    "\n",
    "print('hello from package')"
   ]
  },
  {
   "cell_type": "code",
   "execution_count": 3,
   "metadata": {
    "collapsed": false
   },
   "outputs": [
    {
     "name": "stdout",
     "output_type": "stream",
     "text": [
      "Writing package/a.py\n"
     ]
    }
   ],
   "source": [
    "%%writefile package/a.py\n",
    "\n",
    "print('hello from a')"
   ]
  },
  {
   "cell_type": "code",
   "execution_count": 4,
   "metadata": {
    "collapsed": false
   },
   "outputs": [
    {
     "name": "stdout",
     "output_type": "stream",
     "text": [
      "Writing package/b.py\n"
     ]
    }
   ],
   "source": [
    "%%writefile package/b.py\n",
    "\n",
    "print('hello from b')"
   ]
  },
  {
   "cell_type": "code",
   "execution_count": 5,
   "metadata": {
    "collapsed": false
   },
   "outputs": [
    {
     "name": "stdout",
     "output_type": "stream",
     "text": [
      "hello from package\n",
      "hello from a\n"
     ]
    }
   ],
   "source": [
    "import package.a"
   ]
  },
  {
   "cell_type": "code",
   "execution_count": 6,
   "metadata": {
    "collapsed": false
   },
   "outputs": [
    {
     "name": "stdout",
     "output_type": "stream",
     "text": [
      "hello from b\n"
     ]
    }
   ],
   "source": [
    "import package.b"
   ]
  },
  {
   "cell_type": "code",
   "execution_count": 7,
   "metadata": {
    "collapsed": false
   },
   "outputs": [
    {
     "data": {
      "text/plain": [
       "<module 'package.a' from '/Users/tswr/repositories/Python/git/imkn-python/video-lectures2015/8/package/a.py'>"
      ]
     },
     "execution_count": 7,
     "metadata": {},
     "output_type": "execute_result"
    }
   ],
   "source": [
    "from package import a\n",
    "a"
   ]
  },
  {
   "cell_type": "code",
   "execution_count": 8,
   "metadata": {
    "collapsed": false
   },
   "outputs": [
    {
     "data": {
      "text/plain": [
       "<module 'package.b' from '/Users/tswr/repositories/Python/git/imkn-python/video-lectures2015/8/package/b.py'>"
      ]
     },
     "execution_count": 8,
     "metadata": {},
     "output_type": "execute_result"
    }
   ],
   "source": [
    "from package import *\n",
    "b"
   ]
  },
  {
   "cell_type": "code",
   "execution_count": 1,
   "metadata": {
    "collapsed": false
   },
   "outputs": [
    {
     "name": "stdout",
     "output_type": "stream",
     "text": [
      "Overwriting package/__init__.py\n"
     ]
    }
   ],
   "source": [
    "%%writefile package/__init__.py\n",
    "\n",
    "__all__ = ['b']\n",
    "print('hello from package')"
   ]
  },
  {
   "cell_type": "code",
   "execution_count": 2,
   "metadata": {
    "collapsed": false
   },
   "outputs": [
    {
     "name": "stdout",
     "output_type": "stream",
     "text": [
      "hello from package\n",
      "hello from b\n"
     ]
    }
   ],
   "source": [
    "from package import *"
   ]
  },
  {
   "cell_type": "code",
   "execution_count": 3,
   "metadata": {
    "collapsed": false
   },
   "outputs": [
    {
     "data": {
      "text/plain": [
       "<module 'package.b' from '/Users/tswr/repositories/Python/git/imkn-python/video-lectures2015/8/package/b.py'>"
      ]
     },
     "execution_count": 3,
     "metadata": {},
     "output_type": "execute_result"
    }
   ],
   "source": [
    "b"
   ]
  },
  {
   "cell_type": "code",
   "execution_count": 4,
   "metadata": {
    "collapsed": false
   },
   "outputs": [
    {
     "ename": "NameError",
     "evalue": "name 'a' is not defined",
     "output_type": "error",
     "traceback": [
      "\u001b[0;31m---------------------------------------------------------------------------\u001b[0m",
      "\u001b[0;31mNameError\u001b[0m                                 Traceback (most recent call last)",
      "\u001b[0;32m<ipython-input-4-60b725f10c9c>\u001b[0m in \u001b[0;36m<module>\u001b[0;34m()\u001b[0m\n\u001b[0;32m----> 1\u001b[0;31m \u001b[0ma\u001b[0m\u001b[0;34m\u001b[0m\u001b[0m\n\u001b[0m",
      "\u001b[0;31mNameError\u001b[0m: name 'a' is not defined"
     ]
    }
   ],
   "source": [
    "a"
   ]
  }
 ],
 "metadata": {
  "kernelspec": {
   "display_name": "Python 3",
   "language": "python",
   "name": "python3"
  },
  "language_info": {
   "codemirror_mode": {
    "name": "ipython",
    "version": 3
   },
   "file_extension": ".py",
   "mimetype": "text/x-python",
   "name": "python",
   "nbconvert_exporter": "python",
   "pygments_lexer": "ipython3",
   "version": "3.4.3"
  }
 },
 "nbformat": 4,
 "nbformat_minor": 0
}
